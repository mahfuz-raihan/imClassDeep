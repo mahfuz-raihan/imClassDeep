{
 "cells": [
  {
   "cell_type": "code",
   "execution_count": 1,
   "metadata": {},
   "outputs": [
    {
     "name": "stdout",
     "output_type": "stream",
     "text": [
      "Pytorch version: 2.0.0+cu117\n",
      "torchvision version: 0.15.1+cu117\n"
     ]
    }
   ],
   "source": [
    "# computer vision libraries\n",
    "\n",
    "import torch as t\n",
    "from torch import nn\n",
    "\n",
    "# import torchvision\n",
    "import torchvision as tv\n",
    "from torchvision import datasets\n",
    "from torchvision.transforms import ToTensor\n",
    "\n",
    "# import matplotlib for visualization\n",
    "import matplotlib.pylab as plt\n",
    "\n",
    "# check the version\n",
    "print(f\"Pytorch version: {t.__version__}\\ntorchvision version: {tv.__version__}\")"
   ]
  },
  {
   "cell_type": "markdown",
   "metadata": {},
   "source": [
    "## 1. Getting a dataset\n",
    "we will use very basic dataset what used in computer vision problem. \n",
    "[FashionMNIST](https://github.com/zalandoresearch/fashion-mnist) dataset, made by Zalando Research, is similar setup."
   ]
  },
  {
   "cell_type": "code",
   "execution_count": 2,
   "metadata": {},
   "outputs": [
    {
     "name": "stdout",
     "output_type": "stream",
     "text": [
      "Train dataset download is completed....\n",
      "Test dataset download is completed....\n"
     ]
    }
   ],
   "source": [
    "# Get the training data\n",
    "train_data = datasets.FashionMNIST(\n",
    "    root='/media/mahfuz/Media/datasets/fashionMNIST', # where to download data to?\n",
    "    train=True,\n",
    "    download=True,\n",
    "    transform=ToTensor(), # images come as PIL format, we want to turn torch tensor\n",
    "    target_transform=None\n",
    ")\n",
    "print(f'Train dataset download is completed....')\n",
    "\n",
    "# get the test data\n",
    "test_data = datasets.FashionMNIST(\n",
    "    root='/media/mahfuz/Media/datasets/fashionMNIST',\n",
    "    train=False,\n",
    "    download=True,\n",
    "    transform=ToTensor()\n",
    ")\n",
    "print(f'Test dataset download is completed....')"
   ]
  },
  {
   "cell_type": "markdown",
   "metadata": {},
   "source": [
    "Let's check out the first sample of the training data"
   ]
  },
  {
   "cell_type": "code",
   "execution_count": 3,
   "metadata": {},
   "outputs": [
    {
     "data": {
      "text/plain": [
       "(tensor([[[0.0000, 0.0000, 0.0000, 0.0000, 0.0000, 0.0000, 0.0000, 0.0000,\n",
       "           0.0000, 0.0000, 0.0000, 0.0000, 0.0000, 0.0000, 0.0000, 0.0000,\n",
       "           0.0000, 0.0000, 0.0000, 0.0000, 0.0000, 0.0000, 0.0000, 0.0000,\n",
       "           0.0000, 0.0000, 0.0000, 0.0000],\n",
       "          [0.0000, 0.0000, 0.0000, 0.0000, 0.0000, 0.0000, 0.0000, 0.0000,\n",
       "           0.0000, 0.0000, 0.0000, 0.0000, 0.0000, 0.0000, 0.0000, 0.0000,\n",
       "           0.0000, 0.0000, 0.0000, 0.0000, 0.0000, 0.0000, 0.0000, 0.0000,\n",
       "           0.0000, 0.0000, 0.0000, 0.0000],\n",
       "          [0.0000, 0.0000, 0.0000, 0.0000, 0.0000, 0.0000, 0.0000, 0.0000,\n",
       "           0.0000, 0.0000, 0.0000, 0.0000, 0.0000, 0.0000, 0.0000, 0.0000,\n",
       "           0.0000, 0.0000, 0.0000, 0.0000, 0.0000, 0.0000, 0.0000, 0.0000,\n",
       "           0.0000, 0.0000, 0.0000, 0.0000],\n",
       "          [0.0000, 0.0000, 0.0000, 0.0000, 0.0000, 0.0000, 0.0000, 0.0000,\n",
       "           0.0000, 0.0000, 0.0000, 0.0000, 0.0039, 0.0000, 0.0000, 0.0510,\n",
       "           0.2863, 0.0000, 0.0000, 0.0039, 0.0157, 0.0000, 0.0000, 0.0000,\n",
       "           0.0000, 0.0039, 0.0039, 0.0000],\n",
       "          [0.0000, 0.0000, 0.0000, 0.0000, 0.0000, 0.0000, 0.0000, 0.0000,\n",
       "           0.0000, 0.0000, 0.0000, 0.0000, 0.0118, 0.0000, 0.1412, 0.5333,\n",
       "           0.4980, 0.2431, 0.2118, 0.0000, 0.0000, 0.0000, 0.0039, 0.0118,\n",
       "           0.0157, 0.0000, 0.0000, 0.0118],\n",
       "          [0.0000, 0.0000, 0.0000, 0.0000, 0.0000, 0.0000, 0.0000, 0.0000,\n",
       "           0.0000, 0.0000, 0.0000, 0.0000, 0.0235, 0.0000, 0.4000, 0.8000,\n",
       "           0.6902, 0.5255, 0.5647, 0.4824, 0.0902, 0.0000, 0.0000, 0.0000,\n",
       "           0.0000, 0.0471, 0.0392, 0.0000],\n",
       "          [0.0000, 0.0000, 0.0000, 0.0000, 0.0000, 0.0000, 0.0000, 0.0000,\n",
       "           0.0000, 0.0000, 0.0000, 0.0000, 0.0000, 0.0000, 0.6078, 0.9255,\n",
       "           0.8118, 0.6980, 0.4196, 0.6118, 0.6314, 0.4275, 0.2510, 0.0902,\n",
       "           0.3020, 0.5098, 0.2824, 0.0588],\n",
       "          [0.0000, 0.0000, 0.0000, 0.0000, 0.0000, 0.0000, 0.0000, 0.0000,\n",
       "           0.0000, 0.0000, 0.0000, 0.0039, 0.0000, 0.2706, 0.8118, 0.8745,\n",
       "           0.8549, 0.8471, 0.8471, 0.6392, 0.4980, 0.4745, 0.4784, 0.5725,\n",
       "           0.5529, 0.3451, 0.6745, 0.2588],\n",
       "          [0.0000, 0.0000, 0.0000, 0.0000, 0.0000, 0.0000, 0.0000, 0.0000,\n",
       "           0.0000, 0.0039, 0.0039, 0.0039, 0.0000, 0.7843, 0.9098, 0.9098,\n",
       "           0.9137, 0.8980, 0.8745, 0.8745, 0.8431, 0.8353, 0.6431, 0.4980,\n",
       "           0.4824, 0.7686, 0.8980, 0.0000],\n",
       "          [0.0000, 0.0000, 0.0000, 0.0000, 0.0000, 0.0000, 0.0000, 0.0000,\n",
       "           0.0000, 0.0000, 0.0000, 0.0000, 0.0000, 0.7176, 0.8824, 0.8471,\n",
       "           0.8745, 0.8941, 0.9216, 0.8902, 0.8784, 0.8706, 0.8784, 0.8667,\n",
       "           0.8745, 0.9608, 0.6784, 0.0000],\n",
       "          [0.0000, 0.0000, 0.0000, 0.0000, 0.0000, 0.0000, 0.0000, 0.0000,\n",
       "           0.0000, 0.0000, 0.0000, 0.0000, 0.0000, 0.7569, 0.8941, 0.8549,\n",
       "           0.8353, 0.7765, 0.7059, 0.8314, 0.8235, 0.8275, 0.8353, 0.8745,\n",
       "           0.8627, 0.9529, 0.7922, 0.0000],\n",
       "          [0.0000, 0.0000, 0.0000, 0.0000, 0.0000, 0.0000, 0.0000, 0.0000,\n",
       "           0.0000, 0.0039, 0.0118, 0.0000, 0.0471, 0.8588, 0.8627, 0.8314,\n",
       "           0.8549, 0.7529, 0.6627, 0.8902, 0.8157, 0.8549, 0.8784, 0.8314,\n",
       "           0.8863, 0.7725, 0.8196, 0.2039],\n",
       "          [0.0000, 0.0000, 0.0000, 0.0000, 0.0000, 0.0000, 0.0000, 0.0000,\n",
       "           0.0000, 0.0000, 0.0235, 0.0000, 0.3882, 0.9569, 0.8706, 0.8627,\n",
       "           0.8549, 0.7961, 0.7765, 0.8667, 0.8431, 0.8353, 0.8706, 0.8627,\n",
       "           0.9608, 0.4667, 0.6549, 0.2196],\n",
       "          [0.0000, 0.0000, 0.0000, 0.0000, 0.0000, 0.0000, 0.0000, 0.0000,\n",
       "           0.0000, 0.0157, 0.0000, 0.0000, 0.2157, 0.9255, 0.8941, 0.9020,\n",
       "           0.8941, 0.9412, 0.9098, 0.8353, 0.8549, 0.8745, 0.9176, 0.8510,\n",
       "           0.8510, 0.8196, 0.3608, 0.0000],\n",
       "          [0.0000, 0.0000, 0.0039, 0.0157, 0.0235, 0.0275, 0.0078, 0.0000,\n",
       "           0.0000, 0.0000, 0.0000, 0.0000, 0.9294, 0.8863, 0.8510, 0.8745,\n",
       "           0.8706, 0.8588, 0.8706, 0.8667, 0.8471, 0.8745, 0.8980, 0.8431,\n",
       "           0.8549, 1.0000, 0.3020, 0.0000],\n",
       "          [0.0000, 0.0118, 0.0000, 0.0000, 0.0000, 0.0000, 0.0000, 0.0000,\n",
       "           0.0000, 0.2431, 0.5686, 0.8000, 0.8941, 0.8118, 0.8353, 0.8667,\n",
       "           0.8549, 0.8157, 0.8275, 0.8549, 0.8784, 0.8745, 0.8588, 0.8431,\n",
       "           0.8784, 0.9569, 0.6235, 0.0000],\n",
       "          [0.0000, 0.0000, 0.0000, 0.0000, 0.0706, 0.1725, 0.3216, 0.4196,\n",
       "           0.7412, 0.8941, 0.8627, 0.8706, 0.8510, 0.8863, 0.7843, 0.8039,\n",
       "           0.8275, 0.9020, 0.8784, 0.9176, 0.6902, 0.7373, 0.9804, 0.9725,\n",
       "           0.9137, 0.9333, 0.8431, 0.0000],\n",
       "          [0.0000, 0.2235, 0.7333, 0.8157, 0.8784, 0.8667, 0.8784, 0.8157,\n",
       "           0.8000, 0.8392, 0.8157, 0.8196, 0.7843, 0.6235, 0.9608, 0.7569,\n",
       "           0.8078, 0.8745, 1.0000, 1.0000, 0.8667, 0.9176, 0.8667, 0.8275,\n",
       "           0.8627, 0.9098, 0.9647, 0.0000],\n",
       "          [0.0118, 0.7922, 0.8941, 0.8784, 0.8667, 0.8275, 0.8275, 0.8392,\n",
       "           0.8039, 0.8039, 0.8039, 0.8627, 0.9412, 0.3137, 0.5882, 1.0000,\n",
       "           0.8980, 0.8667, 0.7373, 0.6039, 0.7490, 0.8235, 0.8000, 0.8196,\n",
       "           0.8706, 0.8941, 0.8824, 0.0000],\n",
       "          [0.3843, 0.9137, 0.7765, 0.8235, 0.8706, 0.8980, 0.8980, 0.9176,\n",
       "           0.9765, 0.8627, 0.7608, 0.8431, 0.8510, 0.9451, 0.2549, 0.2863,\n",
       "           0.4157, 0.4588, 0.6588, 0.8588, 0.8667, 0.8431, 0.8510, 0.8745,\n",
       "           0.8745, 0.8784, 0.8980, 0.1137],\n",
       "          [0.2941, 0.8000, 0.8314, 0.8000, 0.7569, 0.8039, 0.8275, 0.8824,\n",
       "           0.8471, 0.7255, 0.7725, 0.8078, 0.7765, 0.8353, 0.9412, 0.7647,\n",
       "           0.8902, 0.9608, 0.9373, 0.8745, 0.8549, 0.8314, 0.8196, 0.8706,\n",
       "           0.8627, 0.8667, 0.9020, 0.2627],\n",
       "          [0.1882, 0.7961, 0.7176, 0.7608, 0.8353, 0.7725, 0.7255, 0.7451,\n",
       "           0.7608, 0.7529, 0.7922, 0.8392, 0.8588, 0.8667, 0.8627, 0.9255,\n",
       "           0.8824, 0.8471, 0.7804, 0.8078, 0.7294, 0.7098, 0.6941, 0.6745,\n",
       "           0.7098, 0.8039, 0.8078, 0.4510],\n",
       "          [0.0000, 0.4784, 0.8588, 0.7569, 0.7020, 0.6706, 0.7176, 0.7686,\n",
       "           0.8000, 0.8235, 0.8353, 0.8118, 0.8275, 0.8235, 0.7843, 0.7686,\n",
       "           0.7608, 0.7490, 0.7647, 0.7490, 0.7765, 0.7529, 0.6902, 0.6118,\n",
       "           0.6549, 0.6941, 0.8235, 0.3608],\n",
       "          [0.0000, 0.0000, 0.2902, 0.7412, 0.8314, 0.7490, 0.6863, 0.6745,\n",
       "           0.6863, 0.7098, 0.7255, 0.7373, 0.7412, 0.7373, 0.7569, 0.7765,\n",
       "           0.8000, 0.8196, 0.8235, 0.8235, 0.8275, 0.7373, 0.7373, 0.7608,\n",
       "           0.7529, 0.8471, 0.6667, 0.0000],\n",
       "          [0.0078, 0.0000, 0.0000, 0.0000, 0.2588, 0.7843, 0.8706, 0.9294,\n",
       "           0.9373, 0.9490, 0.9647, 0.9529, 0.9569, 0.8667, 0.8627, 0.7569,\n",
       "           0.7490, 0.7020, 0.7137, 0.7137, 0.7098, 0.6902, 0.6510, 0.6588,\n",
       "           0.3882, 0.2275, 0.0000, 0.0000],\n",
       "          [0.0000, 0.0000, 0.0000, 0.0000, 0.0000, 0.0000, 0.0000, 0.1569,\n",
       "           0.2392, 0.1725, 0.2824, 0.1608, 0.1373, 0.0000, 0.0000, 0.0000,\n",
       "           0.0000, 0.0000, 0.0000, 0.0000, 0.0000, 0.0000, 0.0000, 0.0000,\n",
       "           0.0000, 0.0000, 0.0000, 0.0000],\n",
       "          [0.0000, 0.0000, 0.0000, 0.0000, 0.0000, 0.0000, 0.0000, 0.0000,\n",
       "           0.0000, 0.0000, 0.0000, 0.0000, 0.0000, 0.0000, 0.0000, 0.0000,\n",
       "           0.0000, 0.0000, 0.0000, 0.0000, 0.0000, 0.0000, 0.0000, 0.0000,\n",
       "           0.0000, 0.0000, 0.0000, 0.0000],\n",
       "          [0.0000, 0.0000, 0.0000, 0.0000, 0.0000, 0.0000, 0.0000, 0.0000,\n",
       "           0.0000, 0.0000, 0.0000, 0.0000, 0.0000, 0.0000, 0.0000, 0.0000,\n",
       "           0.0000, 0.0000, 0.0000, 0.0000, 0.0000, 0.0000, 0.0000, 0.0000,\n",
       "           0.0000, 0.0000, 0.0000, 0.0000]]]),\n",
       " 9)"
      ]
     },
     "execution_count": 3,
     "metadata": {},
     "output_type": "execute_result"
    }
   ],
   "source": [
    "image, label = train_data[0]\n",
    "image, label"
   ]
  },
  {
   "cell_type": "markdown",
   "metadata": {},
   "source": [
    "### 1.1 input and output shapes of the computer vision model\n",
    "\n",
    "We've got big tensor of values leading to the single value for the target (the label), let's see the image shape"
   ]
  },
  {
   "cell_type": "code",
   "execution_count": 4,
   "metadata": {},
   "outputs": [
    {
     "data": {
      "text/plain": [
       "torch.Size([1, 28, 28])"
      ]
     },
     "execution_count": 4,
     "metadata": {},
     "output_type": "execute_result"
    }
   ],
   "source": [
    "# what's the shape of the image? \n",
    "image.shape"
   ]
  },
  {
   "cell_type": "markdown",
   "metadata": {},
   "source": [
    "The shape of the image tensor is ```[1, 28, 28]``` or more specifically:\n",
    "```python\n",
    "[color_channels = 1, height=28, width=28]\n",
    "```\n",
    "Having ```color_channels=1``` means the images is grayscale.\n",
    "\n",
    "Let's check out more shapes of our data."
   ]
  },
  {
   "cell_type": "code",
   "execution_count": 5,
   "metadata": {},
   "outputs": [
    {
     "data": {
      "text/plain": [
       "(60000, 60000, 10000, 10000)"
      ]
     },
     "execution_count": 5,
     "metadata": {},
     "output_type": "execute_result"
    }
   ],
   "source": [
    "# how many samples are there?\n",
    "len(train_data.data), len(train_data.targets), len(test_data.data), len(test_data.targets)"
   ]
  },
  {
   "cell_type": "markdown",
   "metadata": {},
   "source": [
    "We have got 60,000 training samples and 10,000 testing samples\n",
    "\n",
    "what classes are there?\n",
    "\n",
    "We can find these via the ```.classes``` attribute."
   ]
  },
  {
   "cell_type": "code",
   "execution_count": 6,
   "metadata": {},
   "outputs": [
    {
     "data": {
      "text/plain": [
       "['T-shirt/top',\n",
       " 'Trouser',\n",
       " 'Pullover',\n",
       " 'Dress',\n",
       " 'Coat',\n",
       " 'Sandal',\n",
       " 'Shirt',\n",
       " 'Sneaker',\n",
       " 'Bag',\n",
       " 'Ankle boot']"
      ]
     },
     "execution_count": 6,
     "metadata": {},
     "output_type": "execute_result"
    }
   ],
   "source": [
    "# see classes\n",
    "class_names = train_data.classes\n",
    "class_names"
   ]
  },
  {
   "cell_type": "markdown",
   "metadata": {},
   "source": [
    "There have 10 different classes means, the problem is multi-class classification. Let's get visual."
   ]
  },
  {
   "cell_type": "markdown",
   "metadata": {},
   "source": [
    "### 1.2 Visualizing Data"
   ]
  },
  {
   "cell_type": "code",
   "execution_count": 7,
   "metadata": {},
   "outputs": [
    {
     "name": "stdout",
     "output_type": "stream",
     "text": [
      "Image shape: torch.Size([1, 28, 28])\n"
     ]
    },
    {
     "data": {
      "image/png": "[encoded data removed]",
      "text/plain": [
       "<Figure size 640x480 with 1 Axes>"
      ]
     },
     "metadata": {},
     "output_type": "display_data"
    }
   ],
   "source": [
    "import matplotlib.pyplot as plt\n",
    "image, label = train_data[1]\n",
    "print(f\"Image shape: {image.shape}\")\n",
    "plt.imshow(image.squeeze())\n",
    "plt.title(label);"
   ]
  },
  {
   "cell_type": "markdown",
   "metadata": {},
   "source": [
    "We will turn the image into grayscale using the ```cmap``` parameter of ```plt.imshow()```"
   ]
  },
  {
   "cell_type": "code",
   "execution_count": 8,
   "metadata": {},
   "outputs": [
    {
     "data": {
      "image/png": "[encoded data removed]",
      "text/plain": [
       "<Figure size 640x480 with 1 Axes>"
      ]
     },
     "metadata": {},
     "output_type": "display_data"
    }
   ],
   "source": [
    "plt.imshow(image.squeeze(), cmap='gray')\n",
    "plt.title(class_names[label]);"
   ]
  },
  {
   "cell_type": "markdown",
   "metadata": {},
   "source": [
    "Let's plot more image"
   ]
  },
  {
   "cell_type": "code",
   "execution_count": 9,
   "metadata": {},
   "outputs": [
    {
     "data": {
      "image/png": "[encoded data removed]",
      "text/plain": [
       "<Figure size 900x900 with 16 Axes>"
      ]
     },
     "metadata": {},
     "output_type": "display_data"
    }
   ],
   "source": [
    "# plot more image\n",
    "t.manual_seed(42)\n",
    "fig = plt.figure(figsize=(9,9))\n",
    "rows, cols = 4, 4\n",
    "for i in range(1, rows*cols+1):\n",
    "    random_idx = t.randint(0, len(train_data), size=[1]).item()\n",
    "    img, label = train_data[random_idx]\n",
    "    fig.add_subplot(rows, cols, i)\n",
    "    plt.imshow(img.squeeze(), cmap='gray')\n",
    "    plt.title(class_names[label])\n",
    "    plt.axis(False);"
   ]
  },
  {
   "cell_type": "code",
   "execution_count": 10,
   "metadata": {},
   "outputs": [
    {
     "name": "stdout",
     "output_type": "stream",
     "text": [
      "random number is: 29315\n"
     ]
    },
    {
     "data": {
      "text/plain": [
       "0"
      ]
     },
     "execution_count": 10,
     "metadata": {},
     "output_type": "execute_result"
    }
   ],
   "source": [
    "# debug\n",
    "random_i = t.randint(0, len(train_data), size=[1]).item()\n",
    "print(f'random number is: {random_i}')\n",
    "\n",
    "\n",
    "t.randint(0, 5, size=[1]).item()"
   ]
  },
  {
   "cell_type": "markdown",
   "metadata": {},
   "source": [
    "## 2. Prepare DataLoader\n",
    "Library: ```torch.utils.data.DataLoader``` or ```DataLoader```"
   ]
  },
  {
   "cell_type": "code",
   "execution_count": 11,
   "metadata": {},
   "outputs": [],
   "source": [
    "from torch.utils.data import DataLoader\n",
    "\n",
    "# set hyperparameter = batch size\n",
    "bs = 32 # 32 is good batch size to train or test a dataset\n",
    "\n",
    "# turn datasets into iterables(batches)\n",
    "train_dataloader = DataLoader(\n",
    "    train_data, # the dataset, which turn into the iterable\n",
    "    batch_size=bs, # sample size\n",
    "    shuffle=True, # shuffle data every epoch?\n",
    ")\n",
    "\n",
    "test_dataloader = DataLoader(\n",
    "    test_data,\n",
    "    batch_size=bs,\n",
    "    shuffle=False\n",
    ")"
   ]
  },
  {
   "cell_type": "code",
   "execution_count": 12,
   "metadata": {},
   "outputs": [
    {
     "name": "stdout",
     "output_type": "stream",
     "text": [
      "Dataloaders: (<torch.utils.data.dataloader.DataLoader object at 0x7fe50b5157d0>, <torch.utils.data.dataloader.DataLoader object at 0x7fe5088eb490>)\n",
      "Lenght of train dataloader: 1875 batches of 32\n",
      "Lenght of test dataloader: 313 batches of 32\n"
     ]
    }
   ],
   "source": [
    "# Let's check what we have created\n",
    "print(f\"Dataloaders: {train_dataloader, test_dataloader}\")\n",
    "print(f\"Lenght of train dataloader: {len(train_dataloader)} batches of {bs}\")\n",
    "print(f\"Lenght of test dataloader: {len(test_dataloader)} batches of {bs}\")"
   ]
  },
  {
   "cell_type": "code",
   "execution_count": 13,
   "metadata": {},
   "outputs": [
    {
     "name": "stdout",
     "output_type": "stream",
     "text": [
      "train batch: torch.Size([32, 1, 28, 28]), torch.Size([32])\n",
      "test batch: torch.Size([32, 1, 28, 28]), torch.Size([32])\n"
     ]
    }
   ],
   "source": [
    "# let's check the inside of the train/test dataloader\n",
    "train_feature_batch, train_labels_batch = next(iter(train_dataloader))\n",
    "test_feature_batch, test_labels_batch = next(iter(test_dataloader))\n",
    "\n",
    "print(f\"train batch: {train_feature_batch.shape}, {train_labels_batch.shape}\")\n",
    "print(f\"test batch: {test_feature_batch.shape}, {test_labels_batch.shape}\")"
   ]
  },
  {
   "cell_type": "code",
   "execution_count": 14,
   "metadata": {},
   "outputs": [
    {
     "name": "stdout",
     "output_type": "stream",
     "text": [
      "Image size: torch.Size([1, 28, 28])\n",
      "Label: 1, label size: torch.Size([])\n"
     ]
    },
    {
     "data": {
      "image/png": "[encoded data removed]",
      "text/plain": [
       "<Figure size 640x480 with 1 Axes>"
      ]
     },
     "metadata": {},
     "output_type": "display_data"
    }
   ],
   "source": [
    "# check the data, that remain unchanged\n",
    "\n",
    "t.manual_seed(42)\n",
    "random_idx_feature_batch = t.randint(0, len(train_feature_batch), size=[1]).item()\n",
    "img, label = train_feature_batch[random_idx_feature_batch], train_labels_batch[random_idx_feature_batch]\n",
    "plt.imshow(img.squeeze(), cmap='gray')\n",
    "plt.title(class_names[label])\n",
    "plt.axis(\"Off\")\n",
    "\n",
    "print(f\"Image size: {img.shape}\")\n",
    "print(f\"Label: {label}, label size: {label.shape}\")"
   ]
  },
  {
   "cell_type": "markdown",
   "metadata": {},
   "source": [
    "## 3. Model: Build a base model\n",
    "- ```nn.Module``` module\n",
    "- ```nn.Linear()``` layers\n",
    "- [```nn.Flatten()``` layer](https://pytorch.org/docs/stable/generated/torch.nn.Flatten.html)"
   ]
  },
  {
   "cell_type": "code",
   "execution_count": 15,
   "metadata": {},
   "outputs": [
    {
     "name": "stdout",
     "output_type": "stream",
     "text": [
      "Shape before flattening: torch.Size([1, 28, 28]) -> [color_channels, height, width]\n",
      "Shape after flattening: torch.Size([1, 784]) -> [color_channels, height*width]\n"
     ]
    }
   ],
   "source": [
    "# create a flatten layer\n",
    "flatten_model = nn.Flatten() # all nn modules function as a model \n",
    "\n",
    "# get a single sample\n",
    "x = train_feature_batch[0]\n",
    "\n",
    "# flatten the sample\n",
    "output = flatten_model(x) # perform forward pass\n",
    "\n",
    "print(f\"Shape before flattening: {x.shape} -> [color_channels, height, width]\")\n",
    "print(f\"Shape after flattening: {output.shape} -> [color_channels, height*width]\")"
   ]
  },
  {
   "cell_type": "code",
   "execution_count": 16,
   "metadata": {},
   "outputs": [
    {
     "name": "stdout",
     "output_type": "stream",
     "text": [
      "tensor([[0.0000, 0.0000, 0.0000, 0.0000, 0.0000, 0.0000, 0.0000, 0.0078, 0.0078,\n",
      "         0.0000, 0.0000, 0.0000, 0.7294, 0.8471, 0.8431, 0.8627, 0.9686, 0.0000,\n",
      "         0.0000, 0.0000, 0.0078, 0.0078, 0.0000, 0.0000, 0.0000, 0.0000, 0.0000,\n",
      "         0.0000, 0.0000, 0.0000, 0.0000, 0.0000, 0.0000, 0.0000, 0.0078, 0.0000,\n",
      "         0.0000, 0.0000, 0.0000, 0.3922, 0.9020, 0.9176, 0.9490, 0.9333, 0.9255,\n",
      "         0.6627, 0.0000, 0.0000, 0.0000, 0.0000, 0.0157, 0.0000, 0.0000, 0.0000,\n",
      "         0.0000, 0.0000, 0.0000, 0.0000, 0.0000, 0.0000, 0.0000, 0.0039, 0.0000,\n",
      "         0.0000, 0.3294, 0.7216, 0.9647, 0.9216, 0.8510, 0.8667, 0.8667, 0.8588,\n",
      "         0.8431, 0.9059, 1.0000, 0.7294, 0.3686, 0.0000, 0.0000, 0.0039, 0.0000,\n",
      "         0.0000, 0.0000, 0.0000, 0.0000, 0.0000, 0.0000, 0.0000, 0.0157, 0.0000,\n",
      "         0.0588, 0.7725, 0.9137, 0.8824, 0.8471, 0.8275, 0.8510, 0.9020, 0.8745,\n",
      "         0.8706, 0.8745, 0.8353, 0.8392, 0.8863, 0.9059, 0.8157, 0.2039, 0.0000,\n",
      "         0.0157, 0.0000, 0.0000, 0.0000, 0.0000, 0.0000, 0.0000, 0.0000, 0.0000,\n",
      "         0.0000, 0.6863, 0.8980, 0.8039, 0.8235, 0.8275, 0.8353, 0.8157, 0.8353,\n",
      "         0.8353, 0.8314, 0.8157, 0.8353, 0.8314, 0.8275, 0.8118, 0.8745, 0.7961,\n",
      "         0.0000, 0.0000, 0.0000, 0.0000, 0.0000, 0.0000, 0.0000, 0.0000, 0.0000,\n",
      "         0.0000, 0.0941, 0.9020, 0.8196, 0.8235, 0.8392, 0.8314, 0.8314, 0.8275,\n",
      "         0.8431, 0.8314, 0.8235, 0.8275, 0.8353, 0.8392, 0.8353, 0.8353, 0.8157,\n",
      "         0.9176, 0.2941, 0.0000, 0.0000, 0.0000, 0.0000, 0.0000, 0.0000, 0.0000,\n",
      "         0.0000, 0.0000, 0.2941, 0.9333, 0.8314, 0.8275, 0.8275, 0.8235, 0.8275,\n",
      "         0.8235, 0.8627, 0.8392, 0.8314, 0.8275, 0.8275, 0.8314, 0.8353, 0.8314,\n",
      "         0.8275, 0.9373, 0.5373, 0.0000, 0.0000, 0.0000, 0.0000, 0.0000, 0.0000,\n",
      "         0.0000, 0.0000, 0.0000, 0.5373, 0.9412, 0.8667, 0.8392, 0.8314, 0.8235,\n",
      "         0.8275, 0.8196, 0.8510, 0.8078, 0.8314, 0.8275, 0.8314, 0.8431, 0.8471,\n",
      "         0.8431, 0.8667, 0.9333, 0.6863, 0.0000, 0.0000, 0.0000, 0.0000, 0.0000,\n",
      "         0.0000, 0.0000, 0.0000, 0.0000, 0.7098, 0.9255, 0.8941, 0.8471, 0.8275,\n",
      "         0.8392, 0.8353, 0.8314, 0.8471, 0.8196, 0.8392, 0.8314, 0.8275, 0.8431,\n",
      "         0.8510, 0.8392, 0.8941, 0.9176, 0.8510, 0.0000, 0.0000, 0.0000, 0.0000,\n",
      "         0.0000, 0.0000, 0.0000, 0.0000, 0.0000, 0.8588, 0.9020, 0.9216, 0.8549,\n",
      "         0.8392, 0.8431, 0.8353, 0.8431, 0.8588, 0.8392, 0.8510, 0.8431, 0.8431,\n",
      "         0.8627, 0.8353, 0.8510, 0.9294, 0.8902, 0.8196, 0.0000, 0.0000, 0.0000,\n",
      "         0.0000, 0.0000, 0.0000, 0.0000, 0.0000, 0.0000, 0.9686, 0.8902, 0.9255,\n",
      "         0.9098, 0.8078, 0.8431, 0.8392, 0.8392, 0.8627, 0.8353, 0.8392, 0.8510,\n",
      "         0.8510, 0.8588, 0.8078, 0.9059, 0.9373, 0.8863, 0.8667, 0.0000, 0.0000,\n",
      "         0.0000, 0.0000, 0.0000, 0.0000, 0.0000, 0.0000, 0.0000, 0.8706, 0.8824,\n",
      "         0.9176, 0.9765, 0.8392, 0.8392, 0.8431, 0.8392, 0.8745, 0.8627, 0.8510,\n",
      "         0.8549, 0.8667, 0.8588, 0.8314, 0.9647, 0.9255, 0.8745, 0.8941, 0.0510,\n",
      "         0.0000, 0.0000, 0.0000, 0.0000, 0.0000, 0.0000, 0.0000, 0.0667, 0.9020,\n",
      "         0.8706, 0.9608, 0.8196, 0.8039, 0.8549, 0.8549, 0.8549, 0.8627, 0.8314,\n",
      "         0.8471, 0.8510, 0.8471, 0.8941, 0.8118, 0.8039, 0.9647, 0.8667, 0.9216,\n",
      "         0.2118, 0.0000, 0.0000, 0.0000, 0.0000, 0.0000, 0.0000, 0.0000, 0.2118,\n",
      "         0.9176, 0.8784, 0.9412, 0.6549, 0.8235, 0.8549, 0.8588, 0.8471, 0.8667,\n",
      "         0.8392, 0.8510, 0.8510, 0.8275, 0.8627, 0.8471, 0.6000, 1.0000, 0.8745,\n",
      "         0.9255, 0.3059, 0.0000, 0.0000, 0.0000, 0.0000, 0.0000, 0.0000, 0.0000,\n",
      "         0.3333, 0.9176, 0.8941, 0.9961, 0.5216, 0.8549, 0.8471, 0.8706, 0.8431,\n",
      "         0.8745, 0.8510, 0.8588, 0.8510, 0.8471, 0.8275, 0.8902, 0.5490, 1.0000,\n",
      "         0.8941, 0.9216, 0.3882, 0.0000, 0.0000, 0.0000, 0.0000, 0.0000, 0.0000,\n",
      "         0.0000, 0.4235, 0.9020, 0.9137, 0.9765, 0.4118, 0.8824, 0.8588, 0.8627,\n",
      "         0.8353, 0.8784, 0.8431, 0.8549, 0.8510, 0.8627, 0.8275, 0.9020, 0.4196,\n",
      "         0.9490, 0.9137, 0.9059, 0.4902, 0.0000, 0.0000, 0.0000, 0.0000, 0.0000,\n",
      "         0.0000, 0.0000, 0.5647, 0.8824, 0.9333, 0.9412, 0.2784, 0.9451, 0.8510,\n",
      "         0.8431, 0.8353, 0.8706, 0.8196, 0.8627, 0.8588, 0.8510, 0.8314, 0.9647,\n",
      "         0.2863, 0.9098, 0.9373, 0.8824, 0.6196, 0.0000, 0.0000, 0.0000, 0.0000,\n",
      "         0.0000, 0.0000, 0.0000, 0.6980, 0.8549, 0.9373, 0.8980, 0.2431, 0.9765,\n",
      "         0.8471, 0.8353, 0.8549, 0.8745, 0.8353, 0.8549, 0.8627, 0.8471, 0.8275,\n",
      "         1.0000, 0.2471, 0.8745, 0.9490, 0.8549, 0.6980, 0.0000, 0.0000, 0.0000,\n",
      "         0.0000, 0.0000, 0.0000, 0.0000, 0.7529, 0.8431, 0.9529, 0.8471, 0.2078,\n",
      "         1.0000, 0.8471, 0.8314, 0.8706, 0.8824, 0.8549, 0.8471, 0.8667, 0.8549,\n",
      "         0.8275, 1.0000, 0.2078, 0.8275, 0.9647, 0.8353, 0.7647, 0.0000, 0.0000,\n",
      "         0.0000, 0.0000, 0.0000, 0.0000, 0.0000, 0.7608, 0.8314, 0.9569, 0.7882,\n",
      "         0.1569, 1.0000, 0.8275, 0.8235, 0.8706, 0.8667, 0.8275, 0.8392, 0.8549,\n",
      "         0.8510, 0.8314, 1.0000, 0.2118, 0.7725, 0.9608, 0.8314, 0.7647, 0.0000,\n",
      "         0.0000, 0.0000, 0.0000, 0.0000, 0.0000, 0.0000, 0.7373, 0.8314, 0.9608,\n",
      "         0.5961, 0.1529, 1.0000, 0.8314, 0.8314, 0.8667, 0.8784, 0.8392, 0.8431,\n",
      "         0.8471, 0.8627, 0.8471, 1.0000, 0.2863, 0.6000, 0.9569, 0.8353, 0.7255,\n",
      "         0.0000, 0.0000, 0.0000, 0.0000, 0.0000, 0.0000, 0.0000, 0.7098, 0.8353,\n",
      "         0.9765, 0.3725, 0.3529, 1.0000, 0.8275, 0.8392, 0.8627, 0.8863, 0.8549,\n",
      "         0.8549, 0.8549, 0.8627, 0.8392, 1.0000, 0.3373, 0.4157, 0.9686, 0.8314,\n",
      "         0.6941, 0.0000, 0.0000, 0.0000, 0.0000, 0.0000, 0.0000, 0.0000, 0.6627,\n",
      "         0.8431, 0.9804, 0.1804, 0.4549, 1.0000, 0.8235, 0.8353, 0.8549, 0.8784,\n",
      "         0.8353, 0.8471, 0.8471, 0.8588, 0.8353, 1.0000, 0.3961, 0.2353, 0.9882,\n",
      "         0.8471, 0.6196, 0.0000, 0.0000, 0.0000, 0.0000, 0.0000, 0.0000, 0.0000,\n",
      "         0.5843, 0.8588, 0.9490, 0.0000, 0.5255, 0.8980, 0.8235, 0.8431, 0.8549,\n",
      "         0.8745, 0.8353, 0.8510, 0.8510, 0.8510, 0.8353, 0.9020, 0.4706, 0.0549,\n",
      "         0.9569, 0.8588, 0.5451, 0.0000, 0.0000, 0.0000, 0.0000, 0.0000, 0.0000,\n",
      "         0.0000, 0.4510, 0.8902, 0.8941, 0.0000, 0.6392, 0.9333, 0.8157, 0.8353,\n",
      "         0.8353, 0.8392, 0.8196, 0.8275, 0.8275, 0.8353, 0.8235, 0.9412, 0.5490,\n",
      "         0.0000, 0.9216, 0.8745, 0.4000, 0.0000, 0.0000, 0.0000, 0.0000, 0.0000,\n",
      "         0.0000, 0.0000, 0.3882, 0.8863, 0.8431, 0.0000, 0.1765, 0.9333, 0.8863,\n",
      "         0.9137, 0.9176, 0.9176, 0.8980, 0.9059, 0.9098, 0.9176, 0.8824, 0.9373,\n",
      "         0.0314, 0.0000, 0.8706, 0.8706, 0.3294, 0.0000, 0.0000, 0.0000, 0.0000,\n",
      "         0.0000, 0.0000, 0.0000, 0.6314, 0.9373, 0.8588, 0.0000, 0.0000, 0.0000,\n",
      "         0.1059, 0.2627, 0.3451, 0.4157, 0.5137, 0.4196, 0.3608, 0.2471, 0.0902,\n",
      "         0.0000, 0.0000, 0.0000, 0.9059, 0.9333, 0.5098, 0.0000, 0.0000, 0.0000,\n",
      "         0.0000, 0.0000, 0.0000, 0.0000, 0.1176, 0.3608, 0.3333, 0.0000, 0.0000,\n",
      "         0.0000, 0.0000, 0.0000, 0.0000, 0.0000, 0.0000, 0.0000, 0.0000, 0.0000,\n",
      "         0.0000, 0.0000, 0.0000, 0.0000, 0.4510, 0.4784, 0.1333, 0.0000, 0.0000,\n",
      "         0.0000]])\n"
     ]
    }
   ],
   "source": [
    "# check the flatten or non flatten output\n",
    "#print(x)\n",
    "print(output)"
   ]
  },
  {
   "cell_type": "markdown",
   "metadata": {},
   "source": [
    "Let's create a model using ```nn.Flatten()``` as the first layer"
   ]
  },
  {
   "cell_type": "code",
   "execution_count": 17,
   "metadata": {},
   "outputs": [],
   "source": [
    "from torch import nn\n",
    "class FashionMNISTModelv0(nn.Module):\n",
    "    def __init__(self, input_shape: int, hidden_units: int, output_shape: int):\n",
    "        super().__init__()\n",
    "        self.layer_stack = nn.Sequential(\n",
    "            nn.Flatten(), # neural networks like their input in vector form\n",
    "            nn.Linear(in_features=input_shape, out_features=hidden_units),\n",
    "            nn.Linear(in_features=hidden_units, out_features=output_shape) \n",
    "        )\n",
    "    \n",
    "    def forward(self, x):\n",
    "        return self.layer_stack(x)"
   ]
  },
  {
   "cell_type": "markdown",
   "metadata": {},
   "source": [
    "Let's create an instance of our model and send to the CPU for now (we'll run a small test for running ```model_0``` on CPU vs. a similar model on GPU soon)."
   ]
  },
  {
   "cell_type": "code",
   "execution_count": 18,
   "metadata": {},
   "outputs": [
    {
     "data": {
      "text/plain": [
       "FashionMNISTModelv0(\n",
       "  (layer_stack): Sequential(\n",
       "    (0): Flatten(start_dim=1, end_dim=-1)\n",
       "    (1): Linear(in_features=784, out_features=10, bias=True)\n",
       "    (2): Linear(in_features=10, out_features=10, bias=True)\n",
       "  )\n",
       ")"
      ]
     },
     "execution_count": 18,
     "metadata": {},
     "output_type": "execute_result"
    }
   ],
   "source": [
    "t.manual_seed(42)\n",
    "\n",
    "# make a model with parameters\n",
    "model_cpu = FashionMNISTModelv0(\n",
    "    input_shape=784,\n",
    "    hidden_units=10,\n",
    "    output_shape=len(class_names)\n",
    ")\n",
    "model_cpu.to('cpu')"
   ]
  },
  {
   "cell_type": "markdown",
   "metadata": {},
   "source": [
    "### 3.1 Loss, optimizer and evaluation maetics"
   ]
  },
  {
   "cell_type": "code",
   "execution_count": 19,
   "metadata": {},
   "outputs": [
    {
     "name": "stdout",
     "output_type": "stream",
     "text": [
      "'helper_function.py' already exists, skipping download\n"
     ]
    }
   ],
   "source": [
    "import requests\n",
    "from pathlib import Path\n",
    "\n",
    "# download helper functions from learn pytorch repo\n",
    "\n",
    "if Path('helper_function.py').is_file():\n",
    "    print(\"'helper_function.py' already exists, skipping download\")\n",
    "else:\n",
    "    print(\"Downloading helper_function.py\")\n",
    "    request = requests.get('https://raw.githubusercontent.com/mrdbourke/pytorch-deep-learning/main/helper_functions.py')\n",
    "    with open('helper_function.py','wb') as f:\n",
    "        f.write(request.content)\n",
    "    print('helper_function.py is downloaded.')"
   ]
  },
  {
   "cell_type": "code",
   "execution_count": 20,
   "metadata": {},
   "outputs": [],
   "source": [
    "# import accuracy metric\n",
    "from helper_function import accuracy_fn\n",
    "\n",
    "# setup loss funcation and optimizer\n",
    "loss_fn = nn.CrossEntropyLoss()\n",
    "optimizer = t.optim.SGD(params=model_cpu.parameters(), lr=0.1)"
   ]
  },
  {
   "cell_type": "markdown",
   "metadata": {},
   "source": [
    "### 3.2 Creating a function to time our experiments\n",
    "let's try to trian the model with tracking the time using ```timeit.default_timer()``` python ```timeit``` module."
   ]
  },
  {
   "cell_type": "code",
   "execution_count": 21,
   "metadata": {},
   "outputs": [],
   "source": [
    "from timeit import default_timer as timer\n",
    "\n",
    "def print_train_time(start: float, end:float, device: t.device = None):\n",
    "    \"\"\"prints difference between start and end time\n",
    "\n",
    "    args:\n",
    "        start (float): Start time of computation (preferred in timeit format)\n",
    "        end (float): End time of computation.\n",
    "        devie ([type], optional): Device that compute is running on. Defaults to None\n",
    "    \n",
    "    Return:\n",
    "        float: time between start and end in seconds (higher is longer)\n",
    "    \"\"\"\n",
    "    total_time = end - start\n",
    "    print(f\"train time on {device}: {total_time:.3f} seconds\")\n",
    "    return total_time"
   ]
  },
  {
   "cell_type": "markdown",
   "metadata": {},
   "source": [
    "### 3.3 Creating a training loop and training a model on batches of data\n",
    "\n",
    "Let's step through it:\n",
    "\n",
    "1. Loop through epochs.\n",
    "2. Loop through training batches, perform training steps, calculate the train loss _per batch_.\n",
    "3. Loop through testing batches, perform testing steps, calculate the test loss _per batch_.\n",
    "4. Print out what's happening.\n",
    "5. Time it all (for fun)."
   ]
  },
  {
   "cell_type": "code",
   "execution_count": 23,
   "metadata": {},
   "outputs": [
    {
     "name": "stderr",
     "output_type": "stream",
     "text": [
      "  0%|          | 0/3 [00:00<?, ?it/s]"
     ]
    },
    {
     "name": "stdout",
     "output_type": "stream",
     "text": [
      "Epoch: 3\n",
      "------------\n",
      "Looked at 0/60000 samples\n",
      "Looked at 12800/60000 samples\n",
      "Looked at 25600/60000 samples\n",
      "Looked at 38400/60000 samples\n",
      "Looked at 51200/60000 samples\n"
     ]
    },
    {
     "name": "stderr",
     "output_type": "stream",
     "text": [
      " 33%|███▎      | 1/3 [00:05<00:11,  5.59s/it]"
     ]
    },
    {
     "name": "stdout",
     "output_type": "stream",
     "text": [
      "\n",
      "Train loss: 0.44395 | Test loss: 0.46506, Test acc: 83.65%\n",
      "\n",
      "Epoch: 3\n",
      "------------\n",
      "Looked at 0/60000 samples\n",
      "Looked at 12800/60000 samples\n",
      "Looked at 25600/60000 samples\n",
      "Looked at 38400/60000 samples\n",
      "Looked at 51200/60000 samples\n"
     ]
    },
    {
     "name": "stderr",
     "output_type": "stream",
     "text": [
      " 67%|██████▋   | 2/3 [00:11<00:05,  5.69s/it]"
     ]
    },
    {
     "name": "stdout",
     "output_type": "stream",
     "text": [
      "\n",
      "Train loss: 0.43662 | Test loss: 0.46453, Test acc: 83.89%\n",
      "\n",
      "Epoch: 3\n",
      "------------\n",
      "Looked at 0/60000 samples\n",
      "Looked at 12800/60000 samples\n",
      "Looked at 25600/60000 samples\n",
      "Looked at 38400/60000 samples\n",
      "Looked at 51200/60000 samples\n"
     ]
    },
    {
     "name": "stderr",
     "output_type": "stream",
     "text": [
      "100%|██████████| 3/3 [00:17<00:00,  5.76s/it]"
     ]
    },
    {
     "name": "stdout",
     "output_type": "stream",
     "text": [
      "\n",
      "Train loss: 0.43045 | Test loss: 0.46594, Test acc: 83.93%\n",
      "\n",
      "train time on cpu: 17.273 seconds\n"
     ]
    },
    {
     "name": "stderr",
     "output_type": "stream",
     "text": [
      "\n"
     ]
    }
   ],
   "source": [
    "# import tqdm for progress bar\n",
    "from tqdm.auto import tqdm\n",
    "\n",
    "# set the seed and start the timer\n",
    "t.manual_seed(42)\n",
    "train_time_start_on_cpu = timer()\n",
    "\n",
    "# set the number of epoch \n",
    "epochs = 3\n",
    "\n",
    "# create training and tesing loop\n",
    "for epoch in tqdm(range(epochs)):\n",
    "    print(f\"Epoch: {epochs}\\n------------\")\n",
    "\n",
    "    # training\n",
    "    train_loss = 0\n",
    "\n",
    "    # add a loop to loop through training batches\n",
    "    for batch, (X, y) in enumerate(train_dataloader):\n",
    "        model_cpu.train()\n",
    "\n",
    "        # 1. forward pass\n",
    "        y_pred = model_cpu(X)\n",
    "\n",
    "        # 2. Calculate loss(per batch)\n",
    "        loss = loss_fn(y_pred, y)\n",
    "        train_loss += loss\n",
    "        #print(f\"{train_loss}\")\n",
    "\n",
    "\n",
    "        # 3. optimizer zero grad\n",
    "        optimizer.zero_grad()\n",
    "\n",
    "\n",
    "        # 4. loss backward\n",
    "        loss.backward()\n",
    "\n",
    "        # 5. Optimizer step\n",
    "        optimizer.step()\n",
    "\n",
    "        # print out how many sample have been seen\n",
    "        if batch % 400 == 0:\n",
    "            print(f\"Looked at {batch * len(X)}/{len(train_dataloader.dataset)} samples\")\n",
    "\n",
    "    # divide total train loss by length of train dataloader \n",
    "    train_loss /= len(train_dataloader)\n",
    "    #print(f\"train_loss\")\n",
    "\n",
    "\n",
    "    # testing\n",
    "    # setup variables for accumulatively adding up loss and accuracy\n",
    "    test_loss, test_acc = 0, 0\n",
    "    model_cpu.eval()\n",
    "    with t.inference_mode():\n",
    "        for X, y in test_dataloader:\n",
    "            # 1. forward pass\n",
    "            test_pred = model_cpu(X)\n",
    "\n",
    "            # 2. Calculate loss (accumatively)\n",
    "            test_loss += loss_fn(test_pred, y) # accumulatively add up the loss per batch\n",
    "            #print(f'{test_loss}')\n",
    "\n",
    "            # 3. Calculate accuracy (preds need to be same as y_true)\n",
    "            test_acc += accuracy_fn(y_true=y, y_pred=test_pred.argmax(dim=1))\n",
    "            #print(f'{test_acc}')\n",
    "        # calculaitons on test matrics need to happen inside torch.inference_mode()\n",
    "        # divide total test loss by length of test dataloader (per batch)\n",
    "        test_loss /= len(test_dataloader)\n",
    "        #print(f'{test_loss}')\n",
    "\n",
    "        # divide total accuracy by length of test dataloader (per batch)\n",
    "        test_acc /= len(test_dataloader)\n",
    "    \n",
    "    # print out what's happening\n",
    "    print(f\"\\nTrain loss: {train_loss:.5f} | Test loss: {test_loss:.5f}, Test acc: {test_acc:.2f}%\\n\")\n",
    "\n",
    "# Calculate training time\n",
    "train_time_end_on_cpu = timer()\n",
    "total_train_time_model_0 = print_train_time(\n",
    "    start=train_time_start_on_cpu, \n",
    "    end=train_time_end_on_cpu,\n",
    "    device=str(next(model_cpu.parameters()).device)\n",
    ")"
   ]
  },
  {
   "cell_type": "markdown",
   "metadata": {},
   "source": [
    "## 4. Make predictions and get Model 0 results"
   ]
  },
  {
   "cell_type": "code",
   "execution_count": 24,
   "metadata": {},
   "outputs": [],
   "source": [
    "t.manual_seed(42)\n",
    "\n",
    "def eval_model(model: t.nn.Module,\n",
    "               data_loader: t.utils.data.DataLoader,\n",
    "               loss_fn:t.nn.Module,\n",
    "               accuracy_fn):\n",
    "    \"\"\" \n",
    "    Return a directory containing the result of model predicting on data_loader.\n",
    "\n",
    "    Args:\n",
    "        model(torch.nn.Module): a pythonch model that capable of making prediciton on data_loader.\n",
    "        data_loader(torch.utils.data.DataLoader): The target dataset to predict on.\n",
    "        loss_fn(torch.nn.Module): the loss function of model.\n",
    "        accuracy_fn: an accuracy function to compare the model predictions to the truth labels.\n",
    "\n",
    "    Return:\n",
    "        (dict): Results of model making predictions on data_loader.\n",
    "    \"\"\"\n",
    "    loss, acc = 0, 0\n",
    "    model.eval()\n",
    "    with t.inference_mode():\n",
    "        for X, y in data_loader:\n",
    "            # make predictions with the model\n",
    "            y_pred = model(X)\n",
    "\n",
    "            # accumulate the loss and accuracy values per batch\n",
    "            loss += loss_fn(y_pred, y)\n",
    "            acc += accuracy_fn(y_true=y, y_pred=y_pred.argmax(dim=1))\n",
    "        \n",
    "        # scale loss and acc to find the avarage loss / acc per batch\n",
    "        loss /= len(data_loader)\n",
    "        acc /= len(data_loader)\n",
    "    \n",
    "    return {\"model_name\": model.__class__.__name__, # only works when model was created with a class\n",
    "            \"model_loss\": loss.item(),\n",
    "            \"model_acc\": acc}\n",
    "\n",
    "# calculate model 0 result on test dataset\n",
    "model_cpu_result = eval_model(\n",
    "    model=model_cpu,\n",
    "    data_loader=test_dataloader,\n",
    "    loss_fn=loss_fn,\n",
    "    accuracy_fn=accuracy_fn\n",
    ")"
   ]
  },
  {
   "cell_type": "markdown",
   "metadata": {},
   "source": [
    "Check the model with class name"
   ]
  },
  {
   "cell_type": "code",
   "execution_count": 25,
   "metadata": {},
   "outputs": [
    {
     "data": {
      "text/plain": [
       "{'model_name': 'FashionMNISTModelv0',\n",
       " 'model_loss': 0.4659360349178314,\n",
       " 'model_acc': 83.92571884984025}"
      ]
     },
     "execution_count": 25,
     "metadata": {},
     "output_type": "execute_result"
    }
   ],
   "source": [
    "model_cpu_result"
   ]
  },
  {
   "cell_type": "markdown",
   "metadata": {},
   "source": [
    "## 5. Setup device agnostic-code (for using a GPU if there is one)"
   ]
  },
  {
   "cell_type": "code",
   "execution_count": 26,
   "metadata": {},
   "outputs": [
    {
     "data": {
      "text/plain": [
       "'cuda'"
      ]
     },
     "execution_count": 26,
     "metadata": {},
     "output_type": "execute_result"
    }
   ],
   "source": [
    "device = \"cuda\" if t.cuda.is_available() else \"cpu\"\n",
    "device"
   ]
  },
  {
   "cell_type": "markdown",
   "metadata": {},
   "source": [
    "## 5. Setup device agnostic-code (for using a GPU if there is one)\n",
    "Let's build another model.\n",
    "\n",
    "Let's build non-linear function using ```nn.ReLU()``` between each linear layer."
   ]
  },
  {
   "cell_type": "code",
   "execution_count": 27,
   "metadata": {},
   "outputs": [],
   "source": [
    "# create a model with non-linear and liner layer\n",
    "class FashionMNISTModelv1(nn.Module):\n",
    "    def __init__(self, input_shape: int, hidden_units: int, output_shape: int):\n",
    "        super().__init__()\n",
    "        self.layer_stack = nn.Sequential(\n",
    "            nn.Flatten(), \n",
    "            nn.Linear(in_features=input_shape, out_features=hidden_units),\n",
    "            nn.ReLU(),\n",
    "            nn.Linear(in_features=hidden_units, out_features=output_shape),\n",
    "            nn.ReLU()\n",
    "    )\n",
    "    def forward(self, x: t.Tensor):\n",
    "        return self.layer_stack(x)"
   ]
  },
  {
   "cell_type": "code",
   "execution_count": 28,
   "metadata": {},
   "outputs": [
    {
     "data": {
      "text/plain": [
       "device(type='cuda', index=0)"
      ]
     },
     "execution_count": 28,
     "metadata": {},
     "output_type": "execute_result"
    }
   ],
   "source": [
    "t.manual_seed(42)\n",
    "model_gpu = FashionMNISTModelv1(\n",
    "    input_shape=784,\n",
    "    hidden_units=10,\n",
    "    output_shape=len(class_names)\n",
    ").to(device)\n",
    "next(model_gpu.parameters()).device # check model device"
   ]
  },
  {
   "cell_type": "markdown",
   "metadata": {},
   "source": [
    "### 6.1 Setup loss, optimizer and evaluation metrics"
   ]
  },
  {
   "cell_type": "code",
   "execution_count": 31,
   "metadata": {},
   "outputs": [],
   "source": [
    "from helper_function import accuracy_fn\n",
    "\n",
    "loss_fnc = nn.CrossEntropyLoss()\n",
    "optimizer = t.optim.SGD(params=model_gpu.parameters(),\n",
    "                        lr=0.1)"
   ]
  },
  {
   "cell_type": "markdown",
   "metadata": {},
   "source": [
    "### 6.2 Functionizing training and test loops\n",
    "For the training loop we'll create a function called ```train_function()``` which takes in a model, a DataLoader a loss function and an optimizer.\n",
    "\n",
    "The testing loop will be similar but it'll be called ```test_functon()``` and it'll take in a model, a DataLoader, a loss function and an evaluation function."
   ]
  },
  {
   "cell_type": "code",
   "execution_count": 44,
   "metadata": {},
   "outputs": [],
   "source": [
    "def train_function(model: t.nn.Module,\n",
    "                   data_loader: t.utils.data.DataLoader,\n",
    "                   loss_fnc: t.nn.Module,\n",
    "                   optimizer: t.optim.Optimizer,\n",
    "                   accuracy_fn,\n",
    "                   device: t.device = device):\n",
    "    train_loss, train_acc = 0, 0\n",
    "    model.to(device)\n",
    "    for batch, (X, y) in enumerate(data_loader):\n",
    "        X, y = X.to(device), y.to(device)\n",
    "        #model.train()\n",
    "\n",
    "        # 1. forward pass\n",
    "        y_pred = model(X)\n",
    "\n",
    "        # 2. Calculate loss (per batch)\n",
    "        loss = loss_fnc(y_pred, y)\n",
    "        train_loss += loss\n",
    "        train_acc += accuracy_fn(y_true=y, y_pred=y_pred.argmax(dim=1))\n",
    "\n",
    "        # 3. optimizer zero grad\n",
    "        optimizer.zero_grad()\n",
    "\n",
    "        # 4. backward pass\n",
    "        loss.backward()\n",
    "\n",
    "        # 5. optimizer step\n",
    "        optimizer.step()\n",
    "\n",
    "        # # print how many sample have been seen \n",
    "        # if batch % 500 == 0:\n",
    "        #     print(f\"Looked at {batch * len(X)}/{len(data_loader.dataset)} samples\")\n",
    "        \n",
    "    # divide total train loss by length of train dataloader\n",
    "    train_loss /= len(data_loader)\n",
    "    # divide total train accuracy length of train dataloader\n",
    "    train_acc /= len(data_loader)\n",
    "    print(f\"Train loss: {train_loss:.3f} | Train accuracy: {train_acc:.3f}%\")\n",
    "\n",
    "def test_function(model: t.nn.Module,\n",
    "                  data_loader: t.utils.data.DataLoader,\n",
    "                  loss_fnc: t.nn.Module,\n",
    "                  accuracy_fn,\n",
    "                  device: t.device = device):\n",
    "    test_loss, test_acc = 0, 0\n",
    "    model.to(device)\n",
    "    model.eval()\n",
    "    with t.inference_mode():\n",
    "        for X, y in data_loader:\n",
    "            X, y = X.to(device), y.to(device)\n",
    "            # 1. forward pass\n",
    "            test_pred = model(X)\n",
    "\n",
    "            # 2. calculate loss (accumulatively)\n",
    "            test_loss += loss_fnc(test_pred, y)\n",
    "            # 3. Calculate accuracy\n",
    "            test_acc += accuracy_fn(y_true=y, y_pred=test_pred.argmax(dim=1))\n",
    "\n",
    "        # divide total test loss by length of test dataloader (per batch)\n",
    "        test_loss /= len(data_loader)\n",
    "\n",
    "        # divide total test accuracy by length of test dataloader (per batch)\n",
    "        test_acc /= len(data_loader)\n",
    "        \n",
    "        print(f\"Test loss: {test_loss:.4f} | Test Accuracy: {test_acc:.3f}%\\n\")"
   ]
  },
  {
   "cell_type": "markdown",
   "metadata": {},
   "source": [
    "Let's also time things to see how long our code takes to run on the GPU."
   ]
  },
  {
   "cell_type": "code",
   "execution_count": 47,
   "metadata": {},
   "outputs": [
    {
     "name": "stderr",
     "output_type": "stream",
     "text": [
      "  0%|          | 0/3 [00:00<?, ?it/s]"
     ]
    },
    {
     "name": "stdout",
     "output_type": "stream",
     "text": [
      "Epoch: 0\n",
      ".............\n",
      "Train loss: 0.393 | Train accuracy: 86.128%\n"
     ]
    },
    {
     "name": "stderr",
     "output_type": "stream",
     "text": [
      " 33%|███▎      | 1/3 [00:06<00:12,  6.22s/it]"
     ]
    },
    {
     "name": "stdout",
     "output_type": "stream",
     "text": [
      "Test loss: 0.4469 | Test Accuracy: 84.245%\n",
      "\n",
      "Epoch: 1\n",
      ".............\n",
      "Train loss: 0.385 | Train accuracy: 86.372%\n"
     ]
    },
    {
     "name": "stderr",
     "output_type": "stream",
     "text": [
      " 67%|██████▋   | 2/3 [00:12<00:06,  6.14s/it]"
     ]
    },
    {
     "name": "stdout",
     "output_type": "stream",
     "text": [
      "Test loss: 0.4500 | Test Accuracy: 84.335%\n",
      "\n",
      "Epoch: 2\n",
      ".............\n",
      "Train loss: 0.383 | Train accuracy: 86.538%\n"
     ]
    },
    {
     "name": "stderr",
     "output_type": "stream",
     "text": [
      "100%|██████████| 3/3 [00:18<00:00,  6.17s/it]"
     ]
    },
    {
     "name": "stdout",
     "output_type": "stream",
     "text": [
      "Test loss: 0.4337 | Test Accuracy: 85.313%\n",
      "\n",
      "train time on cuda: 18.516 seconds\n"
     ]
    },
    {
     "name": "stderr",
     "output_type": "stream",
     "text": [
      "\n"
     ]
    }
   ],
   "source": [
    "t.manual_seed(42)\n",
    "\n",
    "# measure time\n",
    "from timeit import default_timer as timer\n",
    "train_time_start_on_gpu = timer()\n",
    "\n",
    "epochs = 3\n",
    "for epoch in tqdm(range(epochs)):\n",
    "    print(f\"Epoch: {epoch}\\n--------------\")\n",
    "    train_function(\n",
    "        model=model_gpu,\n",
    "        data_loader=train_dataloader,\n",
    "        loss_fnc=loss_fn,\n",
    "        optimizer=optimizer,\n",
    "        accuracy_fn=accuracy_fn\n",
    "    )\n",
    "    test_function(\n",
    "        model=model_gpu,\n",
    "        data_loader=test_dataloader,\n",
    "        loss_fnc=loss_fn,\n",
    "        accuracy_fn=accuracy_fn\n",
    "    )\n",
    "train_time_end_on_gpu = timer()\n",
    "total_train_time_model_1 = print_train_time(start=train_time_start_on_gpu,\n",
    "                                            end=train_time_end_on_gpu,\n",
    "                                            device=device)"
   ]
  },
  {
   "cell_type": "markdown",
   "metadata": {},
   "source": [
    "Let's find the evaluation metrics"
   ]
  },
  {
   "cell_type": "code",
   "execution_count": 48,
   "metadata": {},
   "outputs": [],
   "source": [
    "t.manual_seed(42)\n",
    "def eval_model_gpu(model: t.nn.Module,\n",
    "                   data_loader: t.utils.data.DataLoader,\n",
    "                   loss_fnc: t.nn.Module,\n",
    "                   accuracy_fn,\n",
    "                   device: t.device = device):\n",
    "    \"\"\"Evaluates a given model on a given dataset.\n",
    "    args:\n",
    "        model(torch.nn.Module): a pytorch model capable of making predictions on data_loader.\n",
    "        data_loader(torch.utils.data.DataLoader): The target dataset to predict on.\n",
    "        loss_fnc(torch.nn.Module): loss function of model\n",
    "        accuracy_fn: an accuracy function to compare the models predictions to the truth labels.\n",
    "        device(torch.device = device): target device to compute on. Defaults to device.\n",
    "\n",
    "    Returns:\n",
    "        (dict): Results of model making predictions on data_loader.\n",
    "    \"\"\"\n",
    "    loss, acc = 0, 0\n",
    "    model.eval()\n",
    "    with t.inference_mode():\n",
    "        for X, y in data_loader:\n",
    "            # send data to the target device\n",
    "            X, y = X.to(device), y.to(device)\n",
    "            y_pred = model(X)\n",
    "            loss += loss_fnc(y_pred, y)\n",
    "            acc += accuracy_fn(y_true=y, y_pred=y_pred.argmax(dim=1))\n",
    "\n",
    "        # scale loss and acc\n",
    "        loss /= len(data_loader)\n",
    "        acc /= len(data_loader)\n",
    "    return {\"model_name\": model.__class__.__name__,\n",
    "            \"model_loss\": loss.item(),\n",
    "            \"model_acc\": acc}\n",
    "    "
   ]
  },
  {
   "cell_type": "code",
   "execution_count": 50,
   "metadata": {},
   "outputs": [
    {
     "data": {
      "text/plain": [
       "{'model_name': 'FashionMNISTModelv1',\n",
       " 'model_loss': 0.433657169342041,\n",
       " 'model_acc': 85.31349840255591}"
      ]
     },
     "execution_count": 50,
     "metadata": {},
     "output_type": "execute_result"
    }
   ],
   "source": [
    "# Calculate model gpu result with device-agnostic code\n",
    "model_gpu_result = eval_model_gpu(model=model_gpu,\n",
    "                                  data_loader=test_dataloader,\n",
    "                                  loss_fnc=loss_fn,\n",
    "                                  accuracy_fn=accuracy_fn,\n",
    "                                  device=device)\n",
    "model_gpu_result"
   ]
  },
  {
   "cell_type": "code",
   "execution_count": 51,
   "metadata": {},
   "outputs": [
    {
     "data": {
      "text/plain": [
       "{'model_name': 'FashionMNISTModelv0',\n",
       " 'model_loss': 0.4659360349178314,\n",
       " 'model_acc': 83.92571884984025}"
      ]
     },
     "execution_count": 51,
     "metadata": {},
     "output_type": "execute_result"
    }
   ],
   "source": [
    "model_cpu_result"
   ]
  }
 ],
 "metadata": {
  "kernelspec": {
   "display_name": "torch",
   "language": "python",
   "name": "python3"
  },
  "language_info": {
   "codemirror_mode": {
    "name": "ipython",
    "version": 3
   },
   "file_extension": ".py",
   "mimetype": "text/x-python",
   "name": "python",
   "nbconvert_exporter": "python",
   "pygments_lexer": "ipython3",
   "version": "3.11.0"
  },
  "orig_nbformat": 4
 },
 "nbformat": 4,
 "nbformat_minor": 2
}
