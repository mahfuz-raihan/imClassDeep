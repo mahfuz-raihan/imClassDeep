{
 "cells": [
  {
   "attachments": {},
   "cell_type": "markdown",
   "metadata": {},
   "source": [
    "# **PyTorch Neural Network Classification**\n",
    "## 1. Architecture of a classification neural network\n",
    "> note: check the ```classification_note.md``` to check the overall architecture description of neural neural network"
   ]
  },
  {
   "cell_type": "code",
   "execution_count": null,
   "metadata": {},
   "outputs": [],
   "source": []
  }
 ],
 "metadata": {
  "language_info": {
   "name": "python"
  },
  "orig_nbformat": 4
 },
 "nbformat": 4,
 "nbformat_minor": 2
}
