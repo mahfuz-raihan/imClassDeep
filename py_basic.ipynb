{
 "cells": [
  {
   "attachments": {},
   "cell_type": "markdown",
   "metadata": {},
   "source": [
    "### Context Managers and Python's with Statement"
   ]
  },
  {
   "cell_type": "code",
   "execution_count": 1,
   "metadata": {},
   "outputs": [],
   "source": [
    "file = open(\"Helow.txt\",\"w\")\n",
    "file.write(\"Hello world!\")\n",
    "file.close()"
   ]
  },
  {
   "attachments": {},
   "cell_type": "markdown",
   "metadata": {},
   "source": [
    "### Try.......finally approch"
   ]
  },
  {
   "cell_type": "code",
   "execution_count": 5,
   "metadata": {},
   "outputs": [],
   "source": [
    "# safely open the file\n",
    "file = open(\"Hellow.txt\",\"w\")\n",
    "try:\n",
    "    file.write(\"I'm doing my Machine Learning project for my company?\")\n",
    "finally:\n",
    "    file.close()"
   ]
  },
  {
   "cell_type": "code",
   "execution_count": 6,
   "metadata": {},
   "outputs": [],
   "source": [
    "file = open(\"Hellow.txt\",\"w\")\n",
    "try:\n",
    "    file.write(\"Hello world!\")\n",
    "except Exception as e:\n",
    "    print(f\"An error occurred while writing to the file: {e}\")\n",
    "finally:\n",
    "    file.close()"
   ]
  },
  {
   "cell_type": "code",
   "execution_count": 7,
   "metadata": {},
   "outputs": [],
   "source": [
    "with open(\"Hellow.txt\", mode='w') as file:\n",
    "    file.write(\"Bukacuda khanki magi\")"
   ]
  },
  {
   "attachments": {},
   "cell_type": "markdown",
   "metadata": {},
   "source": [
    "### Multiple context manager"
   ]
  },
  {
   "cell_type": "code",
   "execution_count": 8,
   "metadata": {},
   "outputs": [
    {
     "ename": "NameError",
     "evalue": "name 'a' is not defined",
     "output_type": "error",
     "traceback": [
      "\u001b[0;31m---------------------------------------------------------------------------\u001b[0m",
      "\u001b[0;31mNameError\u001b[0m                                 Traceback (most recent call last)",
      "\u001b[0;32m/tmp/ipykernel_7480/1425805253.py\u001b[0m in \u001b[0;36m<module>\u001b[0;34m\u001b[0m\n\u001b[0;32m----> 1\u001b[0;31m \u001b[0;32mwith\u001b[0m \u001b[0ma\u001b[0m\u001b[0;34m(\u001b[0m\u001b[0;34m)\u001b[0m \u001b[0;32mas\u001b[0m \u001b[0ma\u001b[0m\u001b[0;34m,\u001b[0m \u001b[0mB\u001b[0m\u001b[0;34m(\u001b[0m\u001b[0;34m)\u001b[0m \u001b[0;32mas\u001b[0m \u001b[0mb\u001b[0m\u001b[0;34m:\u001b[0m\u001b[0;34m\u001b[0m\u001b[0;34m\u001b[0m\u001b[0m\n\u001b[0m\u001b[1;32m      2\u001b[0m     \u001b[0;32mpass\u001b[0m\u001b[0;34m\u001b[0m\u001b[0;34m\u001b[0m\u001b[0m\n",
      "\u001b[0;31mNameError\u001b[0m: name 'a' is not defined"
     ]
    }
   ],
   "source": [
    "with a() as a, B() as b:\n",
    "    pass"
   ]
  },
  {
   "cell_type": "code",
   "execution_count": 10,
   "metadata": {},
   "outputs": [],
   "source": [
    "with open(\"input.txt\",\"w\") as in_file, open(\"output.txt\", \"w\") as out_file:\n",
    "    in_file.write(\"Assalamu wlaikum Vai\")\n",
    "    out_file.write(\"Wa alaikum Assalam\")\n"
   ]
  },
  {
   "cell_type": "code",
   "execution_count": 11,
   "metadata": {},
   "outputs": [],
   "source": [
    "import pathlib"
   ]
  },
  {
   "attachments": {},
   "cell_type": "markdown",
   "metadata": {},
   "source": [
    "another way to use the ```with``` statement ot open and manage files is by using ```pathlib.Path.open()```"
   ]
  },
  {
   "cell_type": "code",
   "execution_count": 12,
   "metadata": {},
   "outputs": [],
   "source": [
    "file_path = pathlib.Path(\"input.txt\")\n",
    "\n",
    "with file_path.open(\"w\") as file:\n",
    "    file.write(\"hey bro.........\")"
   ]
  },
  {
   "attachments": {},
   "cell_type": "markdown",
   "metadata": {},
   "source": [
    "Here’s a general pattern that you should consider using when you’re working with files:"
   ]
  },
  {
   "cell_type": "code",
   "execution_count": 17,
   "metadata": {},
   "outputs": [
    {
     "name": "stderr",
     "output_type": "stream",
     "text": [
      "ERROR:root:Writing to file output.txt failed due to: not writable\n"
     ]
    }
   ],
   "source": [
    "import pathlib\n",
    "import logging\n",
    "\n",
    "file_path2 = pathlib.Path(\"output.txt\")\n",
    "try:\n",
    "    with file_path2.open() as file:\n",
    "        file.write(\"hey dude......\")\n",
    "except OSError as error:\n",
    "    logging.error(\"Writing to file %s failed due to: %s\", file_path2, error)"
   ]
  },
  {
   "attachments": {},
   "cell_type": "markdown",
   "metadata": {},
   "source": [
    "### Traversing Directories"
   ]
  },
  {
   "cell_type": "code",
   "execution_count": 18,
   "metadata": {},
   "outputs": [
    {
     "name": "stdout",
     "output_type": "stream",
     "text": [
      "README.md -> 13 bytes\n",
      "output.txt -> 14 bytes\n",
      "mnist-logistic-regression.pth -> 32423 bytes\n",
      "data -> 4096 bytes\n",
      "py_basic.ipynb -> 5328 bytes\n",
      "input.txt -> 16 bytes\n",
      ".git -> 4096 bytes\n",
      "Hellow.txt -> 20 bytes\n",
      "Regression.ipynb -> 25320 bytes\n",
      "pytorch_workflow.ipynb -> 29550 bytes\n",
      ".ipynb_checkpoints -> 4096 bytes\n",
      "basic_pyTorch.ipynb -> 24390 bytes\n",
      "imgWithLogisticRegression.ipynb -> 102215 bytes\n"
     ]
    }
   ],
   "source": [
    "import os\n",
    "with os.scandir(\".\") as entries:\n",
    "    for entry in entries:\n",
    "        print(entry.name, \"->\", entry.stat().st_size,\"bytes\")"
   ]
  },
  {
   "attachments": {},
   "cell_type": "markdown",
   "metadata": {},
   "source": [
    "### Performing High-Precision Calculations"
   ]
  },
  {
   "cell_type": "code",
   "execution_count": 19,
   "metadata": {},
   "outputs": [],
   "source": [
    "from decimal import Decimal, localcontext\n",
    "\n",
    "with localcontext() as ctx:\n",
    "    ctx.prec = 42\n",
    "    Decimal(\"1\") / Decimal(\"42\")"
   ]
  },
  {
   "cell_type": "code",
   "execution_count": null,
   "metadata": {},
   "outputs": [],
   "source": []
  }
 ],
 "metadata": {
  "kernelspec": {
   "display_name": "dl",
   "language": "python",
   "name": "python3"
  },
  "language_info": {
   "codemirror_mode": {
    "name": "ipython",
    "version": 3
   },
   "file_extension": ".py",
   "mimetype": "text/x-python",
   "name": "python",
   "nbconvert_exporter": "python",
   "pygments_lexer": "ipython3",
   "version": "3.10.8"
  },
  "orig_nbformat": 4,
  "vscode": {
   "interpreter": {
    "hash": "41402c8b5e7f8806df4be0126c60543c8d738b82ccbc17a04411a376311c906e"
   }
  }
 },
 "nbformat": 4,
 "nbformat_minor": 2
}
