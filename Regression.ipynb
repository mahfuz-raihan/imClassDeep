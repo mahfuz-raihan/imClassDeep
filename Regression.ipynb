{
 "cells": [
  {
   "cell_type": "markdown",
   "id": "d3eee31a-3cad-4660-b5d6-104318377014",
   "metadata": {},
   "source": [
    "# Regression with neural network in pyTorch\n",
    "### Training data"
   ]
  },
  {
   "cell_type": "code",
   "execution_count": 1,
   "id": "fcc42b18-35e4-415b-bb85-6873fa9a1cdf",
   "metadata": {},
   "outputs": [],
   "source": [
    "import numpy as np\n",
    "import torch as tr\n",
    "\n",
    "# Input (temp, rainfall, humidity)\n",
    "inputs = np.array([[73, 67, 43], \n",
    "                   [91, 88, 64], \n",
    "                   [87, 134, 58], \n",
    "                   [102, 43, 37], \n",
    "                   [69, 96, 70]], dtype='float32')\n",
    "\n",
    "# Targets (apples, oranges)\n",
    "targets = np.array([[56, 70], \n",
    "                    [81, 101], \n",
    "                    [119, 133], \n",
    "                    [22, 37], \n",
    "                    [103, 119]], dtype='float32')"
   ]
  },
  {
   "cell_type": "markdown",
   "id": "223d617c-9320-4602-97f8-d6824bf5488b",
   "metadata": {},
   "source": [
    "### Convert the input target to tensor"
   ]
  },
  {
   "cell_type": "code",
   "execution_count": 2,
   "id": "c3a098c0-408a-42e6-91b8-3911b74fc8bc",
   "metadata": {},
   "outputs": [
    {
     "name": "stdout",
     "output_type": "stream",
     "text": [
      "tensor([[ 73.,  67.,  43.],\n",
      "        [ 91.,  88.,  64.],\n",
      "        [ 87., 134.,  58.],\n",
      "        [102.,  43.,  37.],\n",
      "        [ 69.,  96.,  70.]])\n",
      "tensor([[ 56.,  70.],\n",
      "        [ 81., 101.],\n",
      "        [119., 133.],\n",
      "        [ 22.,  37.],\n",
      "        [103., 119.]])\n"
     ]
    }
   ],
   "source": [
    "input_data = tr.from_numpy(inputs)\n",
    "target_data = tr.from_numpy(targets)\n",
    "print(input_data)\n",
    "print(target_data)"
   ]
  },
  {
   "cell_type": "markdown",
   "id": "aab63810-acb1-4fa1-a915-6aade772b188",
   "metadata": {
    "tags": []
   },
   "source": [
    "### Weights and bias\n",
    "``\n",
    "Weights and bias initialized as random values. The first row of w and b are used to predict the first target variable. i.e., yield of apples and similarly the second for oranges\n",
    "``"
   ]
  },
  {
   "cell_type": "code",
   "execution_count": 3,
   "id": "01d2f2af-29a0-43cd-bb03-efadb814a496",
   "metadata": {},
   "outputs": [
    {
     "name": "stdout",
     "output_type": "stream",
     "text": [
      "tensor([[ 0.3367,  0.1288,  0.2345],\n",
      "        [ 0.2303, -1.1229, -0.1863]], requires_grad=True)\n",
      "tensor([ 2.2082, -0.6380], requires_grad=True)\n"
     ]
    }
   ],
   "source": [
    "tr.random.manual_seed(42)\n",
    "w = tr.randn(2, 3, requires_grad=True) # weights, need to grad is True\n",
    "b = tr.randn(2, requires_grad=True) # bias, need to grad is True\n",
    "print(w)\n",
    "print(b)"
   ]
  },
  {
   "cell_type": "markdown",
   "id": "139086d0-c715-46d2-b387-af9128f8da9a",
   "metadata": {},
   "source": [
    "### Define the model"
   ]
  },
  {
   "cell_type": "code",
   "execution_count": 4,
   "id": "0defe2ee-3f8d-462d-8284-a360a9267f8d",
   "metadata": {},
   "outputs": [],
   "source": [
    "def model(x):\n",
    "    return x @ w.t() + b"
   ]
  },
  {
   "cell_type": "code",
   "execution_count": 5,
   "id": "f35a7cc7-f631-4a0d-844f-308fa05daa6e",
   "metadata": {},
   "outputs": [],
   "source": [
    "### generate predictions"
   ]
  },
  {
   "cell_type": "code",
   "execution_count": 6,
   "id": "2b3770ef-c619-4937-b2a4-b8e534875247",
   "metadata": {},
   "outputs": [
    {
     "name": "stdout",
     "output_type": "stream",
     "text": [
      "tensor([[  45.4987,  -67.0672],\n",
      "        [  59.1878,  -90.4141],\n",
      "        [  62.3595, -141.8688],\n",
      "        [  50.7645,  -32.3210],\n",
      "        [  54.2179, -105.5822]], grad_fn=<AddBackward0>)\n"
     ]
    }
   ],
   "source": [
    "preds = model(input_data)\n",
    "print(preds)"
   ]
  },
  {
   "cell_type": "code",
   "execution_count": 7,
   "id": "aaad266a-3f01-4f53-b8d5-2f8c579478fc",
   "metadata": {},
   "outputs": [
    {
     "name": "stdout",
     "output_type": "stream",
     "text": [
      "tensor([[ 56.,  70.],\n",
      "        [ 81., 101.],\n",
      "        [119., 133.],\n",
      "        [ 22.,  37.],\n",
      "        [103., 119.]])\n"
     ]
    }
   ],
   "source": [
    "# Compare the targets\n",
    "print(target_data)"
   ]
  },
  {
   "cell_type": "code",
   "execution_count": 8,
   "id": "f8d9f917-7f46-4849-acf6-0d2235dd1a09",
   "metadata": {},
   "outputs": [],
   "source": [
    "# Loss function\n",
    "### MSE loss"
   ]
  },
  {
   "cell_type": "code",
   "execution_count": 9,
   "id": "64b22ccb-5698-4e20-8807-04d5afd5525b",
   "metadata": {},
   "outputs": [
    {
     "name": "stdout",
     "output_type": "stream",
     "text": [
      "tensor(19322.3477, grad_fn=<DivBackward0>)\n"
     ]
    }
   ],
   "source": [
    "def mse(m, n):\n",
    "    diff = m - n\n",
    "    return tr.sum(diff*diff)/diff.numel()\n",
    "# compute loss\n",
    "loss = mse(preds, target_data)\n",
    "print(loss)"
   ]
  },
  {
   "cell_type": "code",
   "execution_count": 10,
   "id": "af05445e-ffca-4bac-a221-f5b3ae12f7a4",
   "metadata": {},
   "outputs": [],
   "source": [
    "### Compute gradiants"
   ]
  },
  {
   "cell_type": "code",
   "execution_count": 11,
   "id": "9ec83b01-e793-442e-b864-4a11a074ff9c",
   "metadata": {},
   "outputs": [],
   "source": [
    "# compute the gradiants\n",
    "loss.backward()"
   ]
  },
  {
   "cell_type": "code",
   "execution_count": 12,
   "id": "05bdbb26-430a-4b46-a974-9218d0d0000f",
   "metadata": {},
   "outputs": [
    {
     "name": "stdout",
     "output_type": "stream",
     "text": [
      "tensor([[ 0.3367,  0.1288,  0.2345],\n",
      "        [ 0.2303, -1.1229, -0.1863]], requires_grad=True)\n",
      "tensor([[ -1622.2405,  -2731.8169,  -1496.6278],\n",
      "        [-14781.0176, -17480.2129, -10474.4824]])\n"
     ]
    }
   ],
   "source": [
    "# gradiants for weights\n",
    "print(w)\n",
    "print(w.grad)"
   ]
  },
  {
   "cell_type": "code",
   "execution_count": 13,
   "id": "20ed3642-d7a6-4b82-aea8-4ca61fbfd0be",
   "metadata": {},
   "outputs": [
    {
     "data": {
      "text/plain": [
       "tensor([[ -1622.2405,  -2731.8169,  -1496.6278],\n",
       "        [-14781.0176, -17480.2129, -10474.4824]])"
      ]
     },
     "execution_count": 13,
     "metadata": {},
     "output_type": "execute_result"
    }
   ],
   "source": [
    "w.grad"
   ]
  },
  {
   "cell_type": "code",
   "execution_count": 14,
   "id": "efc5f628-51e6-4e24-a000-8e760a4f31c0",
   "metadata": {},
   "outputs": [],
   "source": [
    "with tr.no_grad():\n",
    "    w -= w.grad * 1e-5\n",
    "    b -= b.grad * 1e-5"
   ]
  },
  {
   "cell_type": "code",
   "execution_count": 15,
   "id": "f203f2ad-20db-4c74-b108-32a6319c35aa",
   "metadata": {},
   "outputs": [
    {
     "name": "stdout",
     "output_type": "stream",
     "text": [
      "tensor(19322.3477, grad_fn=<DivBackward0>)\n"
     ]
    }
   ],
   "source": [
    "# let's verify that the loss is actually lower\n",
    "loss = mse(preds, target_data)\n",
    "print(loss)"
   ]
  },
  {
   "cell_type": "code",
   "execution_count": 16,
   "id": "376d802a-3d41-43c2-a497-990949722fb6",
   "metadata": {},
   "outputs": [
    {
     "name": "stdout",
     "output_type": "stream",
     "text": [
      "tensor([[0., 0., 0.],\n",
      "        [0., 0., 0.]])\n",
      "tensor([0., 0.])\n"
     ]
    }
   ],
   "source": [
    "w.grad.zero_()\n",
    "b.grad.zero_()\n",
    "print(w.grad)\n",
    "print(b.grad)"
   ]
  },
  {
   "cell_type": "code",
   "execution_count": 17,
   "id": "5853dd8c-28bd-4742-adcf-84d5bc049c74",
   "metadata": {},
   "outputs": [],
   "source": [
    "### Train the model using gradient descent"
   ]
  },
  {
   "cell_type": "code",
   "execution_count": 18,
   "id": "5860e483-a200-46d8-bbf3-0c5d9a32a94b",
   "metadata": {},
   "outputs": [
    {
     "name": "stdout",
     "output_type": "stream",
     "text": [
      "tensor([[ 49.1570, -40.0595],\n",
      "        [ 64.0261, -54.8753],\n",
      "        [ 68.2998, -99.5089],\n",
      "        [ 54.1479,  -5.8505],\n",
      "        [ 59.0077, -71.2684]], grad_fn=<AddBackward0>)\n"
     ]
    }
   ],
   "source": [
    "# Generate predictions\n",
    "preds = model(input_data)\n",
    "print(preds)"
   ]
  },
  {
   "cell_type": "code",
   "execution_count": 19,
   "id": "fbe31931-842c-46d6-9907-b5ce41c954ca",
   "metadata": {},
   "outputs": [
    {
     "name": "stdout",
     "output_type": "stream",
     "text": [
      "tensor(13438.3047, grad_fn=<DivBackward0>)\n"
     ]
    }
   ],
   "source": [
    "# Calculate the loss\n",
    "loss = mse(preds, target_data)\n",
    "print(loss)"
   ]
  },
  {
   "cell_type": "code",
   "execution_count": 20,
   "id": "bf6b66b8-f3b1-4b04-b151-c4ac2d56a896",
   "metadata": {},
   "outputs": [
    {
     "name": "stdout",
     "output_type": "stream",
     "text": [
      "tensor([[ -1242.2932,  -2317.3828,  -1242.2361],\n",
      "        [-11989.3066, -14471.1055,  -8619.6689]])\n",
      "tensor([ -17.2723, -146.3125])\n"
     ]
    }
   ],
   "source": [
    "# Compute gradients\n",
    "loss.backward()\n",
    "print(w.grad)\n",
    "print(b.grad)"
   ]
  },
  {
   "cell_type": "code",
   "execution_count": 21,
   "id": "28f20bfc-75b9-4262-a1b3-43f09cb81174",
   "metadata": {},
   "outputs": [],
   "source": [
    "# Adjust weights & reset gradients\n",
    "with tr.no_grad():\n",
    "    w -= w.grad * 1e-5\n",
    "    b -= b.grad * 1e-5\n",
    "    w.grad.zero_()\n",
    "    b.grad.zero_()"
   ]
  },
  {
   "cell_type": "code",
   "execution_count": 22,
   "id": "8f8e43e1-4dce-49a3-beb4-ccfdb080d34e",
   "metadata": {},
   "outputs": [
    {
     "name": "stdout",
     "output_type": "stream",
     "text": [
      "tensor([[ 0.3653,  0.1793,  0.2619],\n",
      "        [ 0.4980, -0.8033,  0.0046]], requires_grad=True)\n",
      "tensor([ 2.2086, -0.6347], requires_grad=True)\n"
     ]
    }
   ],
   "source": [
    "print(w)\n",
    "print(b)"
   ]
  },
  {
   "cell_type": "code",
   "execution_count": 23,
   "id": "ccd2fe6b-be56-4339-8d75-ffbad998c4f9",
   "metadata": {},
   "outputs": [
    {
     "name": "stdout",
     "output_type": "stream",
     "text": [
      "tensor(9467.9111, grad_fn=<DivBackward0>)\n"
     ]
    }
   ],
   "source": [
    "# Calculate loss\n",
    "preds = model(input_data)\n",
    "loss = mse(preds, target_data)\n",
    "print(loss)"
   ]
  },
  {
   "cell_type": "code",
   "execution_count": 24,
   "id": "b8b4c238-70a6-4027-a13d-7fce8e10784b",
   "metadata": {},
   "outputs": [],
   "source": [
    "## Train for multiple epochs"
   ]
  },
  {
   "cell_type": "code",
   "execution_count": 25,
   "id": "cea422e5-5710-43df-a302-cb0727f7123e",
   "metadata": {},
   "outputs": [],
   "source": [
    "# train for 100 epochs\n",
    "for i in range(150):\n",
    "    preds = model(input_data)\n",
    "    loss = mse(preds, target_data)\n",
    "    \n",
    "    loss.backward()\n",
    "    with tr.no_grad():\n",
    "        w -= w.grad*1e-5\n",
    "        b -= b.grad*1e-5\n",
    "        w.grad.zero_()\n",
    "        b.grad.zero_()"
   ]
  },
  {
   "cell_type": "code",
   "execution_count": 26,
   "id": "f99b54dc-5a0e-4983-a4b3-77393b4a5bc6",
   "metadata": {},
   "outputs": [
    {
     "name": "stdout",
     "output_type": "stream",
     "text": [
      "tensor(201.1342, grad_fn=<DivBackward0>)\n"
     ]
    }
   ],
   "source": [
    "# Calculate loss\n",
    "preds = model(input_data)\n",
    "loss = mse(preds, target_data)\n",
    "print(loss)"
   ]
  },
  {
   "cell_type": "code",
   "execution_count": 27,
   "id": "8a73020c-01c1-4bea-a3bc-5a1df4997077",
   "metadata": {},
   "outputs": [
    {
     "data": {
      "text/plain": [
       "tensor([[ 60.9633,  75.7079],\n",
       "        [ 82.6557, 102.2226],\n",
       "        [111.5731, 120.7462],\n",
       "        [ 40.7990,  68.7990],\n",
       "        [ 91.6298, 103.1659]], grad_fn=<AddBackward0>)"
      ]
     },
     "execution_count": 27,
     "metadata": {},
     "output_type": "execute_result"
    }
   ],
   "source": [
    "preds"
   ]
  },
  {
   "cell_type": "code",
   "execution_count": 28,
   "id": "b58fd674-0ef0-47e8-92f4-4f3c6a567b4b",
   "metadata": {},
   "outputs": [
    {
     "data": {
      "text/plain": [
       "tensor([[ 56.,  70.],\n",
       "        [ 81., 101.],\n",
       "        [119., 133.],\n",
       "        [ 22.,  37.],\n",
       "        [103., 119.]])"
      ]
     },
     "execution_count": 28,
     "metadata": {},
     "output_type": "execute_result"
    }
   ],
   "source": [
    "target_data"
   ]
  },
  {
   "cell_type": "markdown",
   "id": "173fa774-9d03-4405-b123-c7ae1c283776",
   "metadata": {},
   "source": [
    "## Linear Regression using PyTorch bulit-in"
   ]
  },
  {
   "cell_type": "code",
   "execution_count": 45,
   "id": "2a75266c-2da4-41d5-9cfe-1bdc687ae40b",
   "metadata": {},
   "outputs": [],
   "source": [
    "import torch.nn as nn\n",
    "\n",
    "# Input (temp, rainfall, humidity)\n",
    "inputs = np.array([[73, 67, 43], \n",
    "                   [91, 88, 64], \n",
    "                   [87, 134, 58], \n",
    "                   [102, 43, 37], \n",
    "                   [69, 96, 70], \n",
    "                   [74, 66, 43], \n",
    "                   [91, 87, 65], \n",
    "                   [88, 134, 59], \n",
    "                   [101, 44, 37], \n",
    "                   [68, 96, 71], \n",
    "                   [73, 66, 44], \n",
    "                   [92, 87, 64], \n",
    "                   [87, 135, 57], \n",
    "                   [103, 43, 36], \n",
    "                   [68, 97, 70]], \n",
    "                  dtype='float32')\n",
    "\n",
    "# Targets (apples, oranges)\n",
    "targets = np.array([[56, 70], \n",
    "                    [81, 101], \n",
    "                    [119, 133], \n",
    "                    [22, 37], \n",
    "                    [103, 119],\n",
    "                    [57, 69], \n",
    "                    [80, 102], \n",
    "                    [118, 132], \n",
    "                    [21, 38], \n",
    "                    [104, 118], \n",
    "                    [57, 69], \n",
    "                    [82, 100], \n",
    "                    [118, 134], \n",
    "                    [20, 38], \n",
    "                    [102, 120]], \n",
    "                   dtype='float32')\n",
    "\n",
    "inputs = tr.from_numpy(inputs)\n",
    "targets = tr.from_numpy(targets)"
   ]
  },
  {
   "cell_type": "code",
   "execution_count": 32,
   "id": "9b172a06-c9ab-4363-9c76-0c74909333c6",
   "metadata": {},
   "outputs": [],
   "source": [
    "### Dataset and DataLoader"
   ]
  },
  {
   "cell_type": "code",
   "execution_count": 46,
   "id": "8d7112da-eb7e-4034-98df-16913e756772",
   "metadata": {},
   "outputs": [
    {
     "data": {
      "text/plain": [
       "(tensor([[ 73.,  67.,  43.],\n",
       "         [ 91.,  88.,  64.],\n",
       "         [ 87., 134.,  58.]]),\n",
       " tensor([[ 56.,  70.],\n",
       "         [ 81., 101.],\n",
       "         [119., 133.]]))"
      ]
     },
     "execution_count": 46,
     "metadata": {},
     "output_type": "execute_result"
    }
   ],
   "source": [
    "from torch.utils.data import TensorDataset\n",
    "\n",
    "# define dataset\n",
    "train_ds = TensorDataset(inputs, targets)\n",
    "train_ds[0:3]"
   ]
  },
  {
   "cell_type": "code",
   "execution_count": 35,
   "id": "40a2347c-6b6f-41b8-b8ec-811ffbb831d6",
   "metadata": {},
   "outputs": [],
   "source": [
    "### DataLoader"
   ]
  },
  {
   "cell_type": "code",
   "execution_count": 47,
   "id": "d2165848-ba26-4aef-a48c-e2c24c2700ef",
   "metadata": {},
   "outputs": [],
   "source": [
    "from torch.utils.data import DataLoader\n",
    "\n",
    "# Define data loader\n",
    "batch_size = 5\n",
    "train_dl = DataLoader(train_ds, batch_size, shuffle=True)"
   ]
  },
  {
   "cell_type": "code",
   "execution_count": 48,
   "id": "646818ab-168b-4fe2-b25b-da665e266b0f",
   "metadata": {},
   "outputs": [
    {
     "name": "stdout",
     "output_type": "stream",
     "text": [
      "tensor([[ 74.,  66.,  43.],\n",
      "        [103.,  43.,  36.],\n",
      "        [102.,  43.,  37.],\n",
      "        [ 91.,  88.,  64.],\n",
      "        [ 88., 134.,  59.]])\n",
      "tensor([[ 57.,  69.],\n",
      "        [ 20.,  38.],\n",
      "        [ 22.,  37.],\n",
      "        [ 81., 101.],\n",
      "        [118., 132.]])\n"
     ]
    }
   ],
   "source": [
    "for xb, yb in train_dl:\n",
    "    print(xb)\n",
    "    print(yb)\n",
    "    break"
   ]
  },
  {
   "cell_type": "code",
   "execution_count": 49,
   "id": "ff97459f-02f9-4361-851c-19860ca00947",
   "metadata": {},
   "outputs": [],
   "source": [
    "### nn.Linear"
   ]
  },
  {
   "cell_type": "code",
   "execution_count": 52,
   "id": "d9aaba2c-628c-4714-a4cf-d49720c8a9f7",
   "metadata": {},
   "outputs": [
    {
     "name": "stdout",
     "output_type": "stream",
     "text": [
      "Parameter containing:\n",
      "tensor([[-0.4428,  0.4737,  0.1663],\n",
      "        [ 0.2391,  0.1826, -0.0100]], requires_grad=True)\n",
      "Parameter containing:\n",
      "tensor([ 0.4518, -0.4102], requires_grad=True)\n"
     ]
    }
   ],
   "source": [
    "model = nn.Linear(3, 2)\n",
    "print(model.weight)\n",
    "print(model.bias)"
   ]
  },
  {
   "cell_type": "code",
   "execution_count": 53,
   "id": "8f041fc8-78fc-4b9f-bdb8-c10359cc8d32",
   "metadata": {},
   "outputs": [
    {
     "data": {
      "text/plain": [
       "tensor([[  7.0156,  28.8494],\n",
       "        [ 12.4852,  36.7775],\n",
       "        [ 35.0507,  44.2805],\n",
       "        [-18.1943,  31.4626],\n",
       "        [ 27.0153,  32.9168],\n",
       "        [  6.0990,  28.9059],\n",
       "        [ 12.1777,  36.5849],\n",
       "        [ 34.7742,  44.5096],\n",
       "        [-17.2777,  31.4061],\n",
       "        [ 27.6245,  32.6676],\n",
       "        [  6.7082,  28.6567],\n",
       "        [ 11.5686,  36.8341],\n",
       "        [ 35.3582,  44.4731],\n",
       "        [-18.8034,  31.7118],\n",
       "        [ 27.9319,  32.8603]], grad_fn=<AddmmBackward0>)"
      ]
     },
     "execution_count": 53,
     "metadata": {},
     "output_type": "execute_result"
    }
   ],
   "source": [
    "# generate prediction\n",
    "preds = model(inputs)\n",
    "preds"
   ]
  },
  {
   "cell_type": "code",
   "execution_count": 54,
   "id": "9b351fc4-bd02-44a0-b13f-4606002a4735",
   "metadata": {},
   "outputs": [],
   "source": [
    "### Loss Function"
   ]
  },
  {
   "cell_type": "code",
   "execution_count": 56,
   "id": "c1ef7f73-bf36-4cbc-a782-c75eda41c506",
   "metadata": {},
   "outputs": [],
   "source": [
    "# import nn.functional\n",
    "import torch.nn.functional as F\n",
    "# define loss function\n",
    "loss_fn = F.mse_loss # mse_loss = bulit-in loss function"
   ]
  },
  {
   "cell_type": "code",
   "execution_count": 58,
   "id": "1ad365d3-05bf-4fee-bb61-0eb1ce4847a3",
   "metadata": {},
   "outputs": [
    {
     "name": "stdout",
     "output_type": "stream",
     "text": [
      "tensor(4250.6431, grad_fn=<MseLossBackward0>)\n"
     ]
    }
   ],
   "source": [
    "loss = loss_fn(preds, targets)\n",
    "print(loss)"
   ]
  },
  {
   "cell_type": "markdown",
   "id": "52977f9c-b063-4e40-9615-ff3fefcec0ce",
   "metadata": {},
   "source": [
    "## Optimizer"
   ]
  },
  {
   "cell_type": "code",
   "execution_count": 61,
   "id": "e83e66f1-2232-4b8f-82e8-4ee0aee8a280",
   "metadata": {},
   "outputs": [],
   "source": [
    "# define optimizer\n",
    "opt = tr.optim.SGD(model.parameters(), lr=1e-5)"
   ]
  },
  {
   "cell_type": "markdown",
   "id": "7b331254-c861-42bd-a5b7-8f46117801df",
   "metadata": {},
   "source": [
    "### Train the model"
   ]
  },
  {
   "cell_type": "code",
   "execution_count": 74,
   "id": "b39e9a7c-aa2d-4dee-bd7d-b6c835ad0540",
   "metadata": {},
   "outputs": [],
   "source": [
    "# utility function to train the model\n",
    "def fit(num_epochs, model, loss_fn, opt, train_dl):\n",
    "      \n",
    "    # repeat for given number of epoach\n",
    "    for epoch in range(num_epochs):\n",
    "        # repeat with batches of data\n",
    "        for xb, yb in train_dl:\n",
    "                \n",
    "            # 1. Generate predictions\n",
    "            pred = model(xb)\n",
    "                \n",
    "            # 2. Calculate loss\n",
    "            loss = loss_fn(pred, yb)\n",
    "                \n",
    "            # 3. compute gradiants\n",
    "            loss.backward()\n",
    "                \n",
    "            # 4. Update parameters suing gradinants\n",
    "            opt.step()\n",
    "                \n",
    "            # 5. repeat the gradiants to zero\n",
    "            opt.zero_grad()\n",
    "                \n",
    "        # print the progress\n",
    "        if (epoch+1) % 10 ==0:\n",
    "            print('Epoch [{}/{}], loss: {:.4f}'.format(epoch+1, num_epochs, loss.item()))        "
   ]
  },
  {
   "cell_type": "code",
   "execution_count": 79,
   "id": "52ee6072-590c-4cd3-b190-e5b2fc9177b8",
   "metadata": {},
   "outputs": [
    {
     "name": "stdout",
     "output_type": "stream",
     "text": [
      "Epoch [10/150], loss: 0.8247\n",
      "Epoch [20/150], loss: 2.3827\n",
      "Epoch [30/150], loss: 1.9318\n",
      "Epoch [40/150], loss: 1.3267\n",
      "Epoch [50/150], loss: 1.8983\n",
      "Epoch [60/150], loss: 1.8957\n",
      "Epoch [70/150], loss: 1.9471\n",
      "Epoch [80/150], loss: 1.4654\n",
      "Epoch [90/150], loss: 1.8014\n",
      "Epoch [100/150], loss: 1.4987\n",
      "Epoch [110/150], loss: 0.9892\n",
      "Epoch [120/150], loss: 1.2277\n",
      "Epoch [130/150], loss: 1.2430\n",
      "Epoch [140/150], loss: 0.9705\n",
      "Epoch [150/150], loss: 1.3277\n"
     ]
    }
   ],
   "source": [
    "fit(150, model, loss_fn, opt, train_dl)"
   ]
  },
  {
   "cell_type": "code",
   "execution_count": 80,
   "id": "94d859a4-ec20-47ca-8c0a-72578a6b88ae",
   "metadata": {},
   "outputs": [
    {
     "data": {
      "text/plain": [
       "tensor([[ 56.,  70.],\n",
       "        [ 81., 101.],\n",
       "        [119., 133.],\n",
       "        [ 22.,  37.],\n",
       "        [103., 119.],\n",
       "        [ 57.,  69.],\n",
       "        [ 80., 102.],\n",
       "        [118., 132.],\n",
       "        [ 21.,  38.],\n",
       "        [104., 118.],\n",
       "        [ 57.,  69.],\n",
       "        [ 82., 100.],\n",
       "        [118., 134.],\n",
       "        [ 20.,  38.],\n",
       "        [102., 120.]])"
      ]
     },
     "execution_count": 80,
     "metadata": {},
     "output_type": "execute_result"
    }
   ],
   "source": [
    "# compute the target\n",
    "targets"
   ]
  },
  {
   "cell_type": "code",
   "execution_count": 82,
   "id": "21ab0cd9-a77e-4423-8133-81958f9a0a04",
   "metadata": {},
   "outputs": [
    {
     "data": {
      "text/plain": [
       "tensor([[ 57.0511,  70.3155],\n",
       "        [ 81.7502, 100.0017],\n",
       "        [118.6618, 133.7326],\n",
       "        [ 20.9337,  37.9667],\n",
       "        [101.3927, 117.3920],\n",
       "        [ 55.7960,  69.2299],\n",
       "        [ 81.5611, 100.0096],\n",
       "        [118.9263, 134.2903],\n",
       "        [ 22.1888,  39.0524],\n",
       "        [102.4587, 118.4856],\n",
       "        [ 56.8620,  70.3235],\n",
       "        [ 80.4951,  98.9160],\n",
       "        [118.8508, 133.7246],\n",
       "        [ 19.8677,  36.8731],\n",
       "        [102.6478, 118.4776]], grad_fn=<AddmmBackward0>)"
      ]
     },
     "execution_count": 82,
     "metadata": {},
     "output_type": "execute_result"
    }
   ],
   "source": [
    "preds = model(inputs)\n",
    "preds"
   ]
  },
  {
   "cell_type": "code",
   "execution_count": 85,
   "id": "a3859b53-4148-4805-9e71-b632b3c98d7c",
   "metadata": {},
   "outputs": [
    {
     "data": {
      "text/plain": [
       "tensor([[53.4975, 67.3346]], grad_fn=<AddmmBackward0>)"
      ]
     },
     "execution_count": 85,
     "metadata": {},
     "output_type": "execute_result"
    }
   ],
   "source": [
    "model(tr.tensor([[75, 63, 44.]]))"
   ]
  },
  {
   "cell_type": "code",
   "execution_count": null,
   "id": "42a73b0e-e21f-4fa1-8d80-76babe88cc2c",
   "metadata": {},
   "outputs": [],
   "source": []
  }
 ],
 "metadata": {
  "kernelspec": {
   "display_name": "Python 3 (ipykernel)",
   "language": "python",
   "name": "python3"
  },
  "language_info": {
   "codemirror_mode": {
    "name": "ipython",
    "version": 3
   },
   "file_extension": ".py",
   "mimetype": "text/x-python",
   "name": "python",
   "nbconvert_exporter": "python",
   "pygments_lexer": "ipython3",
   "version": "3.9.12"
  }
 },
 "nbformat": 4,
 "nbformat_minor": 5
}
