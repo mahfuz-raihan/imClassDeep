{
 "cells": [
  {
   "cell_type": "markdown",
   "id": "d3eee31a-3cad-4660-b5d6-104318377014",
   "metadata": {},
   "source": [
    "# Regression with neural network in pyTorch\n",
    "### Training data"
   ]
  },
  {
   "cell_type": "code",
   "execution_count": 1,
   "id": "fcc42b18-35e4-415b-bb85-6873fa9a1cdf",
   "metadata": {},
   "outputs": [],
   "source": [
    "import numpy as np\n",
    "import torch as tr\n",
    "\n",
    "# Input (temp, rainfall, humidity)\n",
    "inputs = np.array([[73, 67, 43], \n",
    "                   [91, 88, 64], \n",
    "                   [87, 134, 58], \n",
    "                   [102, 43, 37], \n",
    "                   [69, 96, 70]], dtype='float32')\n",
    "\n",
    "# Targets (apples, oranges)\n",
    "targets = np.array([[56, 70], \n",
    "                    [81, 101], \n",
    "                    [119, 133], \n",
    "                    [22, 37], \n",
    "                    [103, 119]], dtype='float32')"
   ]
  },
  {
   "cell_type": "markdown",
   "id": "223d617c-9320-4602-97f8-d6824bf5488b",
   "metadata": {},
   "source": [
    "### Convert the input target to tensor"
   ]
  },
  {
   "cell_type": "code",
   "execution_count": 2,
   "id": "c3a098c0-408a-42e6-91b8-3911b74fc8bc",
   "metadata": {},
   "outputs": [
    {
     "name": "stdout",
     "output_type": "stream",
     "text": [
      "tensor([[ 73.,  67.,  43.],\n",
      "        [ 91.,  88.,  64.],\n",
      "        [ 87., 134.,  58.],\n",
      "        [102.,  43.,  37.],\n",
      "        [ 69.,  96.,  70.]])\n",
      "tensor([[ 56.,  70.],\n",
      "        [ 81., 101.],\n",
      "        [119., 133.],\n",
      "        [ 22.,  37.],\n",
      "        [103., 119.]])\n"
     ]
    }
   ],
   "source": [
    "input_data = tr.from_numpy(inputs)\n",
    "target_data = tr.from_numpy(targets)\n",
    "print(input_data)\n",
    "print(target_data)"
   ]
  },
  {
   "cell_type": "markdown",
   "id": "aab63810-acb1-4fa1-a915-6aade772b188",
   "metadata": {
    "tags": []
   },
   "source": [
    "### Weights and bias\n",
    "``\n",
    "Weights and bias initialized as random values. The first row of w and b are used to predict the first target variable. i.e., yield of apples and similarly the second for oranges\n",
    "``"
   ]
  },
  {
   "cell_type": "code",
   "execution_count": 3,
   "id": "01d2f2af-29a0-43cd-bb03-efadb814a496",
   "metadata": {},
   "outputs": [
    {
     "name": "stdout",
     "output_type": "stream",
     "text": [
      "tensor([[ 0.3367,  0.1288,  0.2345],\n",
      "        [ 0.2303, -1.1229, -0.1863]], requires_grad=True)\n",
      "tensor([ 2.2082, -0.6380], requires_grad=True)\n"
     ]
    }
   ],
   "source": [
    "tr.random.manual_seed(42)\n",
    "w = tr.randn(2, 3, requires_grad=True) # weights, need to grad is True\n",
    "b = tr.randn(2, requires_grad=True) # bias, need to grad is True\n",
    "print(w)\n",
    "print(b)"
   ]
  },
  {
   "cell_type": "markdown",
   "id": "139086d0-c715-46d2-b387-af9128f8da9a",
   "metadata": {},
   "source": [
    "### Define the model"
   ]
  },
  {
   "cell_type": "code",
   "execution_count": 4,
   "id": "0defe2ee-3f8d-462d-8284-a360a9267f8d",
   "metadata": {},
   "outputs": [],
   "source": [
    "def model(x):\n",
    "    return x @ w.t() + b"
   ]
  },
  {
   "cell_type": "code",
   "execution_count": 5,
   "id": "f35a7cc7-f631-4a0d-844f-308fa05daa6e",
   "metadata": {},
   "outputs": [],
   "source": [
    "### generate predictions"
   ]
  },
  {
   "cell_type": "code",
   "execution_count": 6,
   "id": "2b3770ef-c619-4937-b2a4-b8e534875247",
   "metadata": {},
   "outputs": [
    {
     "name": "stdout",
     "output_type": "stream",
     "text": [
      "tensor([[  45.4987,  -67.0672],\n",
      "        [  59.1878,  -90.4141],\n",
      "        [  62.3595, -141.8688],\n",
      "        [  50.7645,  -32.3210],\n",
      "        [  54.2179, -105.5822]], grad_fn=<AddBackward0>)\n"
     ]
    }
   ],
   "source": [
    "preds = model(input_data)\n",
    "print(preds)"
   ]
  },
  {
   "cell_type": "code",
   "execution_count": 7,
   "id": "aaad266a-3f01-4f53-b8d5-2f8c579478fc",
   "metadata": {},
   "outputs": [
    {
     "name": "stdout",
     "output_type": "stream",
     "text": [
      "tensor([[ 56.,  70.],\n",
      "        [ 81., 101.],\n",
      "        [119., 133.],\n",
      "        [ 22.,  37.],\n",
      "        [103., 119.]])\n"
     ]
    }
   ],
   "source": [
    "# Compare the targets\n",
    "print(target_data)"
   ]
  },
  {
   "cell_type": "code",
   "execution_count": 8,
   "id": "f8d9f917-7f46-4849-acf6-0d2235dd1a09",
   "metadata": {},
   "outputs": [],
   "source": [
    "# Loss function\n",
    "### MSE loss"
   ]
  },
  {
   "cell_type": "code",
   "execution_count": 9,
   "id": "64b22ccb-5698-4e20-8807-04d5afd5525b",
   "metadata": {},
   "outputs": [
    {
     "name": "stdout",
     "output_type": "stream",
     "text": [
      "tensor(19322.3477, grad_fn=<DivBackward0>)\n"
     ]
    }
   ],
   "source": [
    "def mse(m, n):\n",
    "    diff = m - n\n",
    "    return tr.sum(diff*diff)/diff.numel()\n",
    "# compute loss\n",
    "loss = mse(preds, target_data)\n",
    "print(loss)"
   ]
  },
  {
   "cell_type": "code",
   "execution_count": 10,
   "id": "af05445e-ffca-4bac-a221-f5b3ae12f7a4",
   "metadata": {},
   "outputs": [],
   "source": [
    "### Compute gradiants"
   ]
  },
  {
   "cell_type": "code",
   "execution_count": 11,
   "id": "9ec83b01-e793-442e-b864-4a11a074ff9c",
   "metadata": {},
   "outputs": [],
   "source": [
    "# compute the gradiants\n",
    "loss.backward()"
   ]
  },
  {
   "cell_type": "code",
   "execution_count": 12,
   "id": "05bdbb26-430a-4b46-a974-9218d0d0000f",
   "metadata": {},
   "outputs": [
    {
     "name": "stdout",
     "output_type": "stream",
     "text": [
      "tensor([[ 0.3367,  0.1288,  0.2345],\n",
      "        [ 0.2303, -1.1229, -0.1863]], requires_grad=True)\n",
      "tensor([[ -1622.2405,  -2731.8169,  -1496.6278],\n",
      "        [-14781.0176, -17480.2129, -10474.4824]])\n"
     ]
    }
   ],
   "source": [
    "# gradiants for weights\n",
    "print(w)\n",
    "print(w.grad)"
   ]
  },
  {
   "cell_type": "code",
   "execution_count": 13,
   "id": "20ed3642-d7a6-4b82-aea8-4ca61fbfd0be",
   "metadata": {},
   "outputs": [
    {
     "data": {
      "text/plain": [
       "tensor([[ -1622.2405,  -2731.8169,  -1496.6278],\n",
       "        [-14781.0176, -17480.2129, -10474.4824]])"
      ]
     },
     "execution_count": 13,
     "metadata": {},
     "output_type": "execute_result"
    }
   ],
   "source": [
    "w.grad"
   ]
  },
  {
   "cell_type": "code",
   "execution_count": 14,
   "id": "efc5f628-51e6-4e24-a000-8e760a4f31c0",
   "metadata": {},
   "outputs": [],
   "source": [
    "with tr.no_grad():\n",
    "    w -= w.grad * 1e-5\n",
    "    b -= b.grad * 1e-5"
   ]
  },
  {
   "cell_type": "code",
   "execution_count": 15,
   "id": "f203f2ad-20db-4c74-b108-32a6319c35aa",
   "metadata": {},
   "outputs": [
    {
     "name": "stdout",
     "output_type": "stream",
     "text": [
      "tensor(19322.3477, grad_fn=<DivBackward0>)\n"
     ]
    }
   ],
   "source": [
    "# let's verify that the loss is actually lower\n",
    "loss = mse(preds, target_data)\n",
    "print(loss)"
   ]
  },
  {
   "cell_type": "code",
   "execution_count": 16,
   "id": "376d802a-3d41-43c2-a497-990949722fb6",
   "metadata": {},
   "outputs": [
    {
     "name": "stdout",
     "output_type": "stream",
     "text": [
      "tensor([[0., 0., 0.],\n",
      "        [0., 0., 0.]])\n",
      "tensor([0., 0.])\n"
     ]
    }
   ],
   "source": [
    "w.grad.zero_()\n",
    "b.grad.zero_()\n",
    "print(w.grad)\n",
    "print(b.grad)"
   ]
  },
  {
   "cell_type": "code",
   "execution_count": 17,
   "id": "5853dd8c-28bd-4742-adcf-84d5bc049c74",
   "metadata": {},
   "outputs": [],
   "source": [
    "### Train the model using gradient descent"
   ]
  },
  {
   "cell_type": "code",
   "execution_count": 19,
   "id": "5860e483-a200-46d8-bbf3-0c5d9a32a94b",
   "metadata": {},
   "outputs": [
    {
     "name": "stdout",
     "output_type": "stream",
     "text": [
      "tensor([[ 49.1570, -40.0595],\n",
      "        [ 64.0261, -54.8753],\n",
      "        [ 68.2998, -99.5089],\n",
      "        [ 54.1479,  -5.8505],\n",
      "        [ 59.0077, -71.2684]], grad_fn=<AddBackward0>)\n"
     ]
    }
   ],
   "source": [
    "# Generate predictions\n",
    "preds = model(input_data)\n",
    "print(preds)"
   ]
  },
  {
   "cell_type": "code",
   "execution_count": 21,
   "id": "fbe31931-842c-46d6-9907-b5ce41c954ca",
   "metadata": {},
   "outputs": [
    {
     "name": "stdout",
     "output_type": "stream",
     "text": [
      "tensor(13438.3047, grad_fn=<DivBackward0>)\n"
     ]
    }
   ],
   "source": [
    "# Calculate the loss\n",
    "loss = mse(preds, target_data)\n",
    "print(loss)"
   ]
  },
  {
   "cell_type": "code",
   "execution_count": 22,
   "id": "bf6b66b8-f3b1-4b04-b151-c4ac2d56a896",
   "metadata": {},
   "outputs": [
    {
     "name": "stdout",
     "output_type": "stream",
     "text": [
      "tensor([[ -1242.2932,  -2317.3828,  -1242.2361],\n",
      "        [-11989.3066, -14471.1055,  -8619.6689]])\n",
      "tensor([ -17.2723, -146.3125])\n"
     ]
    }
   ],
   "source": [
    "# Compute gradients\n",
    "loss.backward()\n",
    "print(w.grad)\n",
    "print(b.grad)"
   ]
  },
  {
   "cell_type": "code",
   "execution_count": 24,
   "id": "28f20bfc-75b9-4262-a1b3-43f09cb81174",
   "metadata": {},
   "outputs": [],
   "source": [
    "# Adjust weights & reset gradients\n",
    "with tr.no_grad():\n",
    "    w -= w.grad * 1e-5\n",
    "    b -= b.grad * 1e-5\n",
    "    w.grad.zero_()\n",
    "    b.grad.zero_()"
   ]
  },
  {
   "cell_type": "code",
   "execution_count": 25,
   "id": "8f8e43e1-4dce-49a3-beb4-ccfdb080d34e",
   "metadata": {},
   "outputs": [
    {
     "name": "stdout",
     "output_type": "stream",
     "text": [
      "tensor([[ 0.3653,  0.1793,  0.2619],\n",
      "        [ 0.4980, -0.8033,  0.0046]], requires_grad=True)\n",
      "tensor([ 2.2086, -0.6347], requires_grad=True)\n"
     ]
    }
   ],
   "source": [
    "print(w)\n",
    "print(b)"
   ]
  },
  {
   "cell_type": "code",
   "execution_count": 26,
   "id": "ccd2fe6b-be56-4339-8d75-ffbad998c4f9",
   "metadata": {},
   "outputs": [
    {
     "name": "stdout",
     "output_type": "stream",
     "text": [
      "tensor(9467.9111, grad_fn=<DivBackward0>)\n"
     ]
    }
   ],
   "source": [
    "# Calculate loss\n",
    "preds = model(input_data)\n",
    "loss = mse(preds, target_data)\n",
    "print(loss)"
   ]
  },
  {
   "cell_type": "code",
   "execution_count": 27,
   "id": "b8b4c238-70a6-4027-a13d-7fce8e10784b",
   "metadata": {},
   "outputs": [],
   "source": [
    "## Train for multiple epochs"
   ]
  },
  {
   "cell_type": "code",
   "execution_count": 33,
   "id": "cea422e5-5710-43df-a302-cb0727f7123e",
   "metadata": {},
   "outputs": [],
   "source": [
    "# train for 100 epochs\n",
    "for i in range(150):\n",
    "    preds = model(input_data)\n",
    "    loss = mse(preds, target_data)\n",
    "    \n",
    "    loss.backward()\n",
    "    with tr.no_grad():\n",
    "        w -= w.grad*1e-5\n",
    "        b -= b.grad*1e-5\n",
    "        w.grad.zero_()\n",
    "        b.grad.zero_()"
   ]
  },
  {
   "cell_type": "code",
   "execution_count": 34,
   "id": "f99b54dc-5a0e-4983-a4b3-77393b4a5bc6",
   "metadata": {},
   "outputs": [
    {
     "name": "stdout",
     "output_type": "stream",
     "text": [
      "tensor(62.1724, grad_fn=<DivBackward0>)\n"
     ]
    }
   ],
   "source": [
    "# Calculate loss\n",
    "preds = model(input_data)\n",
    "loss = mse(preds, target_data)\n",
    "print(loss)"
   ]
  },
  {
   "cell_type": "code",
   "execution_count": 35,
   "id": "8a73020c-01c1-4bea-a3bc-5a1df4997077",
   "metadata": {},
   "outputs": [
    {
     "data": {
      "text/plain": [
       "tensor([[ 59.4326,  73.2340],\n",
       "        [ 81.6480, 100.5570],\n",
       "        [116.3258, 128.5114],\n",
       "        [ 31.9058,  54.4224],\n",
       "        [ 95.0663, 108.6577]], grad_fn=<AddBackward0>)"
      ]
     },
     "execution_count": 35,
     "metadata": {},
     "output_type": "execute_result"
    }
   ],
   "source": [
    "preds"
   ]
  },
  {
   "cell_type": "code",
   "execution_count": 36,
   "id": "b58fd674-0ef0-47e8-92f4-4f3c6a567b4b",
   "metadata": {},
   "outputs": [
    {
     "data": {
      "text/plain": [
       "tensor([[ 56.,  70.],\n",
       "        [ 81., 101.],\n",
       "        [119., 133.],\n",
       "        [ 22.,  37.],\n",
       "        [103., 119.]])"
      ]
     },
     "execution_count": 36,
     "metadata": {},
     "output_type": "execute_result"
    }
   ],
   "source": [
    "target_data"
   ]
  },
  {
   "cell_type": "code",
   "execution_count": null,
   "id": "0b84dfc0-03d1-4c31-9a87-c85c159b7275",
   "metadata": {},
   "outputs": [],
   "source": []
  }
 ],
 "metadata": {
  "kernelspec": {
   "display_name": "Python 3 (ipykernel)",
   "language": "python",
   "name": "python3"
  },
  "language_info": {
   "codemirror_mode": {
    "name": "ipython",
    "version": 3
   },
   "file_extension": ".py",
   "mimetype": "text/x-python",
   "name": "python",
   "nbconvert_exporter": "python",
   "pygments_lexer": "ipython3",
   "version": "3.9.12"
  }
 },
 "nbformat": 4,
 "nbformat_minor": 5
}
