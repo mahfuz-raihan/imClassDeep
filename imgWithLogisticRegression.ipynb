{
 "cells": [
  {
   "cell_type": "markdown",
   "id": "612ceefa-5649-48cf-99f7-a7dad0de3934",
   "metadata": {},
   "source": [
    "# Image Classification with Logistic Regression using PyTroch"
   ]
  },
  {
   "cell_type": "markdown",
   "id": "ec339f76-5312-4b3e-8240-a6d37d08a92e",
   "metadata": {},
   "source": [
    "Here we use MNIST dataset to explore the data and most. "
   ]
  },
  {
   "cell_type": "code",
   "execution_count": 1,
   "id": "d29a289f-eeab-4dd1-a040-71314468e629",
   "metadata": {},
   "outputs": [],
   "source": [
    "# import the libararies\n",
    "import torch as tr\n",
    "import torchvision as tv\n",
    "from torchvision.datasets import MNIST as MT\n",
    "import torchvision.transforms as tf\n",
    "from torch.utils.data import random_split\n",
    "import matplotlib.pyplot as plt\n",
    "%matplotlib inline"
   ]
  },
  {
   "cell_type": "markdown",
   "id": "86cb345f-09e3-4865-9343-cf54f073636c",
   "metadata": {},
   "source": [
    "### Download the training dataset"
   ]
  },
  {
   "cell_type": "code",
   "execution_count": 2,
   "id": "dca05d6b-2321-4fe0-b898-3aa0f02de78d",
   "metadata": {},
   "outputs": [],
   "source": [
    "# training dataset download\n",
    "train_data = MT(root='data/', download=True)"
   ]
  },
  {
   "cell_type": "code",
   "execution_count": 3,
   "id": "6a61d8e4-4cc7-49a2-87cb-975fed161349",
   "metadata": {},
   "outputs": [
    {
     "data": {
      "text/plain": [
       "60000"
      ]
     },
     "execution_count": 3,
     "metadata": {},
     "output_type": "execute_result"
    }
   ],
   "source": [
    "len(train_data) # find the leanth of the dataset"
   ]
  },
  {
   "cell_type": "code",
   "execution_count": 4,
   "id": "8352917f-5088-4f81-9502-d4d98bd43445",
   "metadata": {},
   "outputs": [],
   "source": [
    "test_data = MT(root='data/', train=False)"
   ]
  },
  {
   "cell_type": "code",
   "execution_count": 5,
   "id": "f3d7032e-30be-483c-add6-ebd7789471dc",
   "metadata": {},
   "outputs": [
    {
     "data": {
      "text/plain": [
       "10000"
      ]
     },
     "execution_count": 5,
     "metadata": {},
     "output_type": "execute_result"
    }
   ],
   "source": [
    "len(test_data)"
   ]
  },
  {
   "cell_type": "markdown",
   "id": "2265bd13-feff-4cc1-95ce-3485bf3831a9",
   "metadata": {},
   "source": [
    "### Let's show the image from the dataset\n",
    "For this, we will use matplotlib for showcase the images."
   ]
  },
  {
   "cell_type": "code",
   "execution_count": 6,
   "id": "5b3f2b9b-8bd7-49d8-b41b-28ed9c2f745c",
   "metadata": {},
   "outputs": [
    {
     "name": "stdout",
     "output_type": "stream",
     "text": [
      "Label: 9\n"
     ]
    },
    {
     "data": {
      "image/png": "[encoded data removed]",
      "text/plain": [
       "<Figure size 432x288 with 1 Axes>"
      ]
     },
     "metadata": {
      "needs_background": "light"
     },
     "output_type": "display_data"
    }
   ],
   "source": [
    "image, label = train_data[4]\n",
    "plt.imshow(image, cmap='gray')\n",
    "print('Label:', label)"
   ]
  },
  {
   "cell_type": "code",
   "execution_count": 7,
   "id": "c8d12c03-b9a3-4b08-9fb2-20a7aef5695e",
   "metadata": {},
   "outputs": [
    {
     "data": {
      "text/plain": [
       "(<PIL.Image.Image image mode=L size=28x28 at 0x1DAA1275610>, 5)"
      ]
     },
     "execution_count": 7,
     "metadata": {},
     "output_type": "execute_result"
    }
   ],
   "source": [
    "train_data[0]"
   ]
  },
  {
   "cell_type": "code",
   "execution_count": 8,
   "id": "28e9a9b3-77c4-4cdf-b30a-3b72720d6e9f",
   "metadata": {},
   "outputs": [
    {
     "name": "stdout",
     "output_type": "stream",
     "text": [
      "Label: 3\n"
     ]
    },
    {
     "data": {
      "image/png": "[encoded data removed]",
      "text/plain": [
       "<Figure size 432x288 with 1 Axes>"
      ]
     },
     "metadata": {
      "needs_background": "light"
     },
     "output_type": "display_data"
    }
   ],
   "source": [
    "image, label = train_data[10]\n",
    "plt.imshow(image, cmap='gray')\n",
    "print('Label:', label)"
   ]
  },
  {
   "cell_type": "code",
   "execution_count": 9,
   "id": "32c0ed60-ad96-40b5-ade8-37905d03af63",
   "metadata": {},
   "outputs": [],
   "source": [
    "train_ds = MT(root='data/',\n",
    "             train=True,\n",
    "             transform=tf.ToTensor()\n",
    "             )\n",
    "test_ds = MT(root='data/',\n",
    "            train=False,\n",
    "            transform=tf.ToTensor()\n",
    "            )"
   ]
  },
  {
   "cell_type": "code",
   "execution_count": 10,
   "id": "ec15ee18-885e-4f7f-980d-2cd00b8c93c7",
   "metadata": {},
   "outputs": [
    {
     "name": "stdout",
     "output_type": "stream",
     "text": [
      "torch.Size([1, 28, 28]) 5\n"
     ]
    }
   ],
   "source": [
    "img_tensor, label= train_ds[0]\n",
    "print(img_tensor.shape, label)"
   ]
  },
  {
   "cell_type": "markdown",
   "id": "5aca1f1f-4917-4a76-942d-e0a75071483a",
   "metadata": {},
   "source": [
    "### let's look at some image sample values inside the tensor"
   ]
  },
  {
   "cell_type": "code",
   "execution_count": 11,
   "id": "9cc38429-b711-47f9-8c0e-a6405fe28129",
   "metadata": {},
   "outputs": [
    {
     "name": "stdout",
     "output_type": "stream",
     "text": [
      "tensor([[[0.0039, 0.6039, 0.9922, 0.3529, 0.0000],\n",
      "         [0.0000, 0.5451, 0.9922, 0.7451, 0.0078],\n",
      "         [0.0000, 0.0431, 0.7451, 0.9922, 0.2745],\n",
      "         [0.0000, 0.0000, 0.1373, 0.9451, 0.8824],\n",
      "         [0.0000, 0.0000, 0.0000, 0.3176, 0.9412]]])\n",
      "tensor(1.) tensor(0.)\n"
     ]
    }
   ],
   "source": [
    "print(img_tensor[:, 10:15, 10:15])\n",
    "print(tr.max(img_tensor), tr.min(img_tensor))"
   ]
  },
  {
   "cell_type": "code",
   "execution_count": 12,
   "id": "1e0b39c8-2b07-4987-99c8-a332da63e554",
   "metadata": {},
   "outputs": [
    {
     "data": {
      "text/plain": [
       "<matplotlib.image.AxesImage at 0x1daa13a3790>"
      ]
     },
     "execution_count": 12,
     "metadata": {},
     "output_type": "execute_result"
    },
    {
     "data": {
      "image/png": "[encoded data removed]",
      "text/plain": [
       "<Figure size 432x288 with 1 Axes>"
      ]
     },
     "metadata": {
      "needs_background": "light"
     },
     "output_type": "display_data"
    }
   ],
   "source": [
    "# plot the image by passing in the 28x28 matrix\n",
    "plt.imshow(img_tensor[0, 10:20, 10:20], cmap='gray')"
   ]
  },
  {
   "cell_type": "markdown",
   "id": "b0cb47b0-7039-4a80-b8a6-4bb4d84610fc",
   "metadata": {},
   "source": [
    "### Training and Validation Datasets\n",
    "we will randomly pick the images from the dataset, for this reason we import the random_split method from PyTorch"
   ]
  },
  {
   "cell_type": "code",
   "execution_count": 13,
   "id": "0047d4a2-2d03-4464-b45f-4bc78e79a488",
   "metadata": {},
   "outputs": [],
   "source": [
    "train_dataset, val_dataset = random_split(train_ds, [50000, 10000])"
   ]
  },
  {
   "cell_type": "code",
   "execution_count": 14,
   "id": "99c0c6af-6b8e-4ec6-9584-33fb7ddec745",
   "metadata": {},
   "outputs": [
    {
     "data": {
      "text/plain": [
       "(50000, 10000)"
      ]
     },
     "execution_count": 14,
     "metadata": {},
     "output_type": "execute_result"
    }
   ],
   "source": [
    "# find the lenth of the dataset\n",
    "len(train_dataset), len(val_dataset)"
   ]
  },
  {
   "cell_type": "markdown",
   "id": "f0895795-3990-4185-a1af-83692933f883",
   "metadata": {},
   "source": [
    "### DataLoader"
   ]
  },
  {
   "cell_type": "code",
   "execution_count": 15,
   "id": "e824dc9b-3a79-4ede-a070-60bf5c2d79a3",
   "metadata": {},
   "outputs": [],
   "source": [
    "# import dataloader library\n",
    "from torch.utils.data.dataloader import DataLoader"
   ]
  },
  {
   "cell_type": "code",
   "execution_count": 16,
   "id": "91ab87c5-3889-4566-b329-a9fcc354ebc3",
   "metadata": {},
   "outputs": [],
   "source": [
    "train_loader = DataLoader(train_dataset, batch_size= 100, shuffle=True)\n",
    "val_loader = DataLoader(val_dataset, batch_size=100, shuffle=True)"
   ]
  },
  {
   "cell_type": "code",
   "execution_count": 17,
   "id": "f4799dc7-2731-465d-8805-5cecb3be695f",
   "metadata": {},
   "outputs": [],
   "source": [
    "import torch.nn as nn\n",
    "\n",
    "input_size = 28*28\n",
    "num_classes = 10\n",
    "\n",
    "# logistic regression model\n",
    "model = nn.Linear(input_size, num_classes)"
   ]
  },
  {
   "cell_type": "code",
   "execution_count": 18,
   "id": "87e2ab05-05b3-41d8-952a-ba873b613c5a",
   "metadata": {},
   "outputs": [
    {
     "name": "stdout",
     "output_type": "stream",
     "text": [
      "torch.Size([10, 784])\n"
     ]
    },
    {
     "data": {
      "text/plain": [
       "Parameter containing:\n",
       "tensor([[-0.0124, -0.0347, -0.0059,  ...,  0.0012, -0.0036,  0.0219],\n",
       "        [ 0.0279,  0.0133,  0.0045,  ...,  0.0143,  0.0007, -0.0002],\n",
       "        [ 0.0183,  0.0057,  0.0292,  ..., -0.0208,  0.0319,  0.0128],\n",
       "        ...,\n",
       "        [ 0.0266,  0.0333, -0.0209,  ..., -0.0213,  0.0202, -0.0213],\n",
       "        [-0.0356,  0.0341, -0.0274,  ..., -0.0080,  0.0051, -0.0249],\n",
       "        [-0.0215, -0.0295,  0.0244,  ..., -0.0115,  0.0162, -0.0317]],\n",
       "       requires_grad=True)"
      ]
     },
     "execution_count": 18,
     "metadata": {},
     "output_type": "execute_result"
    }
   ],
   "source": [
    "print(model.weight.shape)\n",
    "model.weight"
   ]
  },
  {
   "cell_type": "code",
   "execution_count": 19,
   "id": "800df9be-86da-474c-947c-c5f4a5128086",
   "metadata": {},
   "outputs": [
    {
     "name": "stdout",
     "output_type": "stream",
     "text": [
      "torch.Size([10])\n"
     ]
    },
    {
     "data": {
      "text/plain": [
       "Parameter containing:\n",
       "tensor([-0.0128,  0.0268, -0.0333, -0.0046, -0.0118, -0.0265, -0.0223, -0.0095,\n",
       "         0.0214, -0.0075], requires_grad=True)"
      ]
     },
     "execution_count": 19,
     "metadata": {},
     "output_type": "execute_result"
    }
   ],
   "source": [
    "print(model.bias.shape)\n",
    "model.bias"
   ]
  },
  {
   "cell_type": "code",
   "execution_count": 20,
   "id": "f6f1a368-98cb-41f2-87e4-e122c3a5bde3",
   "metadata": {},
   "outputs": [
    {
     "name": "stdout",
     "output_type": "stream",
     "text": [
      "tensor([2, 7, 8, 9, 4, 9, 7, 6, 7, 8, 6, 1, 9, 3, 1, 0, 6, 7, 1, 2, 8, 9, 5, 3,\n",
      "        2, 7, 2, 5, 6, 5, 5, 9, 9, 3, 0, 2, 2, 9, 3, 1, 0, 5, 4, 1, 6, 9, 6, 2,\n",
      "        1, 1, 6, 1, 6, 3, 3, 1, 0, 9, 7, 0, 1, 5, 1, 7, 5, 3, 7, 8, 4, 2, 3, 0,\n",
      "        7, 2, 6, 0, 7, 3, 2, 7, 6, 2, 7, 9, 5, 2, 8, 4, 2, 3, 1, 0, 0, 6, 0, 8,\n",
      "        3, 6, 4, 6])\n",
      "torch.Size([100, 1, 28, 28])\n"
     ]
    }
   ],
   "source": [
    "\n",
    "#### Now we will take first batch of 100 images from our dataset and pass the into our model\n",
    "for images, labels in train_loader:\n",
    "    print(labels)\n",
    "    print(images.shape)\n",
    "    #outputs = model(images)\n",
    "    break"
   ]
  },
  {
   "cell_type": "code",
   "execution_count": 21,
   "id": "75c7c4b6-1eff-4448-882e-2b2914d793cb",
   "metadata": {},
   "outputs": [
    {
     "data": {
      "text/plain": [
       "torch.Size([100, 1, 28, 28])"
      ]
     },
     "execution_count": 21,
     "metadata": {},
     "output_type": "execute_result"
    }
   ],
   "source": [
    "images.shape"
   ]
  },
  {
   "cell_type": "code",
   "execution_count": 22,
   "id": "83956e50-8f50-48e8-8f52-a4414b432f1c",
   "metadata": {},
   "outputs": [
    {
     "data": {
      "text/plain": [
       "torch.Size([100, 784])"
      ]
     },
     "execution_count": 22,
     "metadata": {},
     "output_type": "execute_result"
    }
   ],
   "source": [
    "images.reshape(100, 784).shape"
   ]
  },
  {
   "cell_type": "markdown",
   "id": "4a664ecf-d1a1-4780-b063-d9a185fa69e6",
   "metadata": {},
   "source": [
    "This error leads us for mismatch for image vector. our image are of the shape of 28x28 but we need them to be bector fo size 784 i.e. we need to flatten them out. We'll use  the ```.reshape``` method of a tensor, which will allow us to efficiently 'view' each image as a flat vector. \n",
    "Now we need to costom ```nn.Module``` class from pyTroch"
   ]
  },
  {
   "cell_type": "code",
   "execution_count": 23,
   "id": "be013db1-41f4-47f9-8ff5-122e80a73c43",
   "metadata": {},
   "outputs": [],
   "source": [
    "class mnistModel(nn.Module):\n",
    "    def __init__(self):\n",
    "        super().__init__()\n",
    "        self.linear = nn.Linear(input_size, num_classes)\n",
    "    \n",
    "    def forward(self, xb):\n",
    "        xb = xb.reshape(-1, 784)\n",
    "        out = self.linear(xb)\n",
    "        return out\n",
    "\n",
    "model = mnistModel()"
   ]
  },
  {
   "cell_type": "code",
   "execution_count": 24,
   "id": "c16685c2-9177-4873-8d4b-c1c70509d63a",
   "metadata": {},
   "outputs": [
    {
     "data": {
      "text/plain": [
       "Linear(in_features=784, out_features=10, bias=True)"
      ]
     },
     "execution_count": 24,
     "metadata": {},
     "output_type": "execute_result"
    }
   ],
   "source": [
    "model.linear"
   ]
  },
  {
   "cell_type": "code",
   "execution_count": 25,
   "id": "9df6b776-fdce-4169-9627-70e6e3cb92a5",
   "metadata": {},
   "outputs": [
    {
     "name": "stdout",
     "output_type": "stream",
     "text": [
      "torch.Size([10, 784]) torch.Size([10])\n"
     ]
    },
    {
     "data": {
      "text/plain": [
       "[Parameter containing:\n",
       " tensor([[-0.0009,  0.0317,  0.0067,  ...,  0.0065, -0.0307,  0.0146],\n",
       "         [ 0.0278,  0.0114,  0.0292,  ..., -0.0004, -0.0260, -0.0228],\n",
       "         [-0.0095, -0.0188,  0.0108,  ...,  0.0349,  0.0122, -0.0347],\n",
       "         ...,\n",
       "         [ 0.0294, -0.0222, -0.0047,  ...,  0.0066, -0.0100, -0.0241],\n",
       "         [ 0.0256, -0.0013, -0.0194,  ..., -0.0003, -0.0224, -0.0030],\n",
       "         [ 0.0224,  0.0156,  0.0289,  ..., -0.0094, -0.0048,  0.0020]],\n",
       "        requires_grad=True),\n",
       " Parameter containing:\n",
       " tensor([ 0.0235,  0.0346,  0.0128, -0.0263,  0.0223,  0.0035, -0.0094,  0.0223,\n",
       "          0.0305, -0.0206], requires_grad=True)]"
      ]
     },
     "execution_count": 25,
     "metadata": {},
     "output_type": "execute_result"
    }
   ],
   "source": [
    "print(model.linear.weight.shape, model.linear.bias.shape)\n",
    "list(model.parameters())"
   ]
  },
  {
   "cell_type": "markdown",
   "id": "c78eca61-1bf7-4b49-96ec-1048efa59f83",
   "metadata": {},
   "source": [
    "Our new custom model can be used in the exact same way as before. Let's see if it works:"
   ]
  },
  {
   "cell_type": "code",
   "execution_count": 26,
   "id": "74f78b1c-121e-49ac-9112-f54ead7af627",
   "metadata": {},
   "outputs": [
    {
     "name": "stdout",
     "output_type": "stream",
     "text": [
      "Outputs.shape:  torch.Size([100, 10])\n",
      "sample outputs: \n",
      " tensor([[-0.5142, -0.3682, -0.0162,  0.0483,  0.3800,  0.1586,  0.0014,  0.0470,\n",
      "         -0.0761, -0.2385],\n",
      "        [-0.0295, -0.1881,  0.2819, -0.2787,  0.2971,  0.1940,  0.0629,  0.1465,\n",
      "         -0.0934, -0.0548]])\n"
     ]
    }
   ],
   "source": [
    "for images, labels in train_loader:\n",
    "    outputs = model(images)\n",
    "    break\n",
    "print('Outputs.shape: ', outputs.shape)\n",
    "print(\"sample outputs: \\n\", outputs[:2].data)"
   ]
  },
  {
   "cell_type": "markdown",
   "id": "0976dea3-1db8-4757-9231-440b5440f02b",
   "metadata": {},
   "source": [
    "Each output row's elements must lie between 0 to 1 and add up to 1, which is not the case.\n",
    "To convert the output rows into probabilities, we use the softmax function, which has the following formula:"
   ]
  },
  {
   "cell_type": "code",
   "execution_count": 27,
   "id": "f9a9ce9f-e7f2-4090-ba32-6d27969d43ca",
   "metadata": {},
   "outputs": [],
   "source": [
    "# import the library\n",
    "import torch.nn.functional as F"
   ]
  },
  {
   "cell_type": "code",
   "execution_count": 28,
   "id": "1ecde0d3-0c76-4703-a789-c08e112f706e",
   "metadata": {},
   "outputs": [
    {
     "data": {
      "text/plain": [
       "tensor([[-0.5142, -0.3682, -0.0162,  0.0483,  0.3800,  0.1586,  0.0014,  0.0470,\n",
       "         -0.0761, -0.2385],\n",
       "        [-0.0295, -0.1881,  0.2819, -0.2787,  0.2971,  0.1940,  0.0629,  0.1465,\n",
       "         -0.0934, -0.0548],\n",
       "        [-0.0780, -0.1339,  0.0502, -0.1732,  0.2498,  0.2555,  0.0472,  0.0739,\n",
       "          0.0606, -0.0891]], grad_fn=<SliceBackward0>)"
      ]
     },
     "execution_count": 28,
     "metadata": {},
     "output_type": "execute_result"
    }
   ],
   "source": [
    "outputs[:3]"
   ]
  },
  {
   "cell_type": "code",
   "execution_count": 29,
   "id": "76b51160-f496-4854-8e23-191994790972",
   "metadata": {},
   "outputs": [
    {
     "name": "stdout",
     "output_type": "stream",
     "text": [
      "Sample probabilities:\n",
      " tensor([[0.0615, 0.0712, 0.1012, 0.1080, 0.1504, 0.1205, 0.1030, 0.1078, 0.0953,\n",
      "         0.0810],\n",
      "        [0.0923, 0.0787, 0.1260, 0.0719, 0.1279, 0.1154, 0.1012, 0.1100, 0.0866,\n",
      "         0.0900]])\n",
      "Sum:  0.9999999403953552\n"
     ]
    }
   ],
   "source": [
    "# Apply softmax for each output row\n",
    "probs = F.softmax(outputs, dim=1)\n",
    "\n",
    "# Look at sample probabilities\n",
    "print(\"Sample probabilities:\\n\", probs[:2].data)\n",
    "\n",
    "# Add up the probabilities of an output row\n",
    "print(\"Sum: \", tr.sum(probs[0]).item())"
   ]
  },
  {
   "cell_type": "code",
   "execution_count": 30,
   "id": "3272fd42-8390-44c6-9aea-2c4a80aeea05",
   "metadata": {},
   "outputs": [
    {
     "name": "stdout",
     "output_type": "stream",
     "text": [
      "tensor([4, 4, 5, 4, 4, 5, 4, 8, 4, 4, 4, 7, 4, 6, 6, 4, 4, 8, 5, 4, 5, 4, 8, 4,\n",
      "        4, 7, 4, 4, 7, 4, 4, 7, 4, 4, 4, 8, 4, 4, 4, 6, 4, 8, 6, 4, 7, 4, 7, 4,\n",
      "        4, 4, 4, 8, 6, 4, 4, 4, 7, 7, 4, 5, 4, 4, 4, 4, 5, 8, 4, 6, 4, 2, 4, 5,\n",
      "        5, 4, 4, 4, 4, 7, 4, 2, 4, 7, 1, 7, 8, 7, 4, 1, 7, 4, 6, 5, 6, 4, 7, 4,\n",
      "        4, 4, 2, 5])\n",
      "tensor([0.1504, 0.1279, 0.1245, 0.1203, 0.1815, 0.1466, 0.1214, 0.1196, 0.1253,\n",
      "        0.1648, 0.1636, 0.1180, 0.1222, 0.1261, 0.1183, 0.1398, 0.1375, 0.1235,\n",
      "        0.1290, 0.1804, 0.1370, 0.1581, 0.1642, 0.1372, 0.1623, 0.1217, 0.1221,\n",
      "        0.1544, 0.1194, 0.1342, 0.1865, 0.1435, 0.1581, 0.1280, 0.1620, 0.1123,\n",
      "        0.1708, 0.1106, 0.1595, 0.1125, 0.1341, 0.1296, 0.1299, 0.1505, 0.1129,\n",
      "        0.1290, 0.1374, 0.1323, 0.1344, 0.1806, 0.1252, 0.1300, 0.1401, 0.1534,\n",
      "        0.1532, 0.1790, 0.1209, 0.1184, 0.1232, 0.1306, 0.1316, 0.1527, 0.1264,\n",
      "        0.1287, 0.1366, 0.1337, 0.1440, 0.1232, 0.1364, 0.1285, 0.1807, 0.1363,\n",
      "        0.1352, 0.1222, 0.1482, 0.1306, 0.1523, 0.1302, 0.1161, 0.1276, 0.1697,\n",
      "        0.1307, 0.1177, 0.1247, 0.1316, 0.1296, 0.1412, 0.1218, 0.1448, 0.1320,\n",
      "        0.1341, 0.1273, 0.1211, 0.1777, 0.1311, 0.1227, 0.1156, 0.1554, 0.1173,\n",
      "        0.1318], grad_fn=<MaxBackward0>)\n"
     ]
    }
   ],
   "source": [
    "max_probs, preds = tr.max(probs, dim=1)\n",
    "print(preds)\n",
    "print(max_probs)"
   ]
  },
  {
   "cell_type": "code",
   "execution_count": 31,
   "id": "7e82b6d4-850c-44b7-b7ee-43d656c34661",
   "metadata": {},
   "outputs": [
    {
     "data": {
      "text/plain": [
       "tensor([0, 4, 7, 0, 0, 9, 6, 4, 9, 3, 5, 4, 3, 7, 8, 0, 0, 6, 9, 0, 9, 0, 0, 5,\n",
       "        8, 9, 4, 8, 5, 3, 2, 5, 2, 4, 0, 1, 6, 1, 2, 1, 3, 5, 9, 4, 9, 2, 9, 5,\n",
       "        9, 6, 3, 6, 7, 3, 3, 8, 7, 9, 9, 3, 0, 2, 2, 8, 7, 6, 0, 7, 6, 7, 8, 9,\n",
       "        1, 1, 0, 6, 3, 4, 1, 7, 0, 3, 3, 5, 6, 3, 8, 3, 7, 5, 7, 7, 9, 2, 4, 5,\n",
       "        1, 5, 4, 8])"
      ]
     },
     "execution_count": 31,
     "metadata": {},
     "output_type": "execute_result"
    }
   ],
   "source": [
    "labels"
   ]
  },
  {
   "cell_type": "markdown",
   "id": "ae7cde8e-8254-497d-9d76-add639e0a205",
   "metadata": {},
   "source": [
    "## Evaluation Metric and Loss function"
   ]
  },
  {
   "cell_type": "code",
   "execution_count": 32,
   "id": "38bc7460-a72d-447b-bb62-46053722f983",
   "metadata": {},
   "outputs": [],
   "source": [
    "def accuracy(outputs, labels):\n",
    "    _, preds = tr.max(outputs, dim=1)\n",
    "    return tr.tensor(tr.sum(preds == labels).item() / len(preds))"
   ]
  },
  {
   "cell_type": "code",
   "execution_count": 33,
   "id": "f3e96298-51c4-45b2-818b-e2b145a5f38f",
   "metadata": {},
   "outputs": [
    {
     "data": {
      "text/plain": [
       "tensor(6)"
      ]
     },
     "execution_count": 33,
     "metadata": {},
     "output_type": "execute_result"
    }
   ],
   "source": [
    "tr.sum(preds == labels)"
   ]
  },
  {
   "cell_type": "code",
   "execution_count": 34,
   "id": "bbe235b9-9fab-45d4-a726-5e1d9147dafd",
   "metadata": {},
   "outputs": [
    {
     "data": {
      "text/plain": [
       "tensor([[-0.5142, -0.3682, -0.0162,  0.0483,  0.3800,  0.1586,  0.0014,  0.0470,\n",
       "         -0.0761, -0.2385],\n",
       "        [-0.0295, -0.1881,  0.2819, -0.2787,  0.2971,  0.1940,  0.0629,  0.1465,\n",
       "         -0.0934, -0.0548]], grad_fn=<SliceBackward0>)"
      ]
     },
     "execution_count": 34,
     "metadata": {},
     "output_type": "execute_result"
    }
   ],
   "source": [
    "outputs[:2]"
   ]
  },
  {
   "cell_type": "code",
   "execution_count": 35,
   "id": "bd0f4406-c196-423e-ac04-eee382d83315",
   "metadata": {},
   "outputs": [
    {
     "data": {
      "text/plain": [
       "tensor(0.0600)"
      ]
     },
     "execution_count": 35,
     "metadata": {},
     "output_type": "execute_result"
    }
   ],
   "source": [
    "accuracy(outputs, labels)"
   ]
  },
  {
   "cell_type": "code",
   "execution_count": 36,
   "id": "57ee29a3-5a91-44d4-8007-3847a457308b",
   "metadata": {},
   "outputs": [
    {
     "name": "stdout",
     "output_type": "stream",
     "text": [
      "tensor(2.3906, grad_fn=<NllLossBackward0>)\n"
     ]
    }
   ],
   "source": [
    "# find the loss function\n",
    "# here we use cross-enropy as loss function\n",
    "\n",
    "loss_fn = F.cross_entropy\n",
    "\n",
    "#loss for current batch of data\n",
    "loss = loss_fn(outputs, labels)\n",
    "print(loss)"
   ]
  },
  {
   "cell_type": "markdown",
   "id": "d9de02c0-7da0-4c37-a4de-d006661cd1a2",
   "metadata": {},
   "source": [
    "## Optimizer\n",
    "Here we will use the ```optim.SDG``` optimizer to update the weights and bias during training"
   ]
  },
  {
   "cell_type": "code",
   "execution_count": 37,
   "id": "c907e852-0d8f-4b94-b6e2-b9f8a0d7ff63",
   "metadata": {},
   "outputs": [],
   "source": [
    "lr = 0.001\n",
    "opt = tr.optim.SGD(model.parameters(), lr)"
   ]
  },
  {
   "cell_type": "markdown",
   "id": "547ed140-62b3-4352-a33c-3e39bdc91978",
   "metadata": {},
   "source": [
    "### Training the model"
   ]
  },
  {
   "cell_type": "code",
   "execution_count": 38,
   "id": "b3326013-766f-412a-bcad-b2e28d5654d7",
   "metadata": {},
   "outputs": [],
   "source": [
    "def fit(epochs, lr, model, train_loader, val_loader, opt=tr.optim.SGD):\n",
    "    optimizer = opt(model.parameters(), lr)\n",
    "    history = []\n",
    "    \n",
    "    for epoch in range(epochs):\n",
    "        \n",
    "        # training phase\n",
    "        for batch in train_loader:\n",
    "            loss = model.training_step(batch)\n",
    "            loss.backward()\n",
    "            optimizer.step()\n",
    "            optimizer.zero_grad()\n",
    "            \n",
    "        # validation phase\n",
    "        result = evaluate(model, val_loader)\n",
    "        model.epoch_end(epoch, result)\n",
    "        history.append(result)\n",
    "    return history"
   ]
  },
  {
   "cell_type": "code",
   "execution_count": 39,
   "id": "a5164565-a0ee-4dee-a68b-1731bf8a4186",
   "metadata": {},
   "outputs": [],
   "source": [
    "def evaluate(model, val_loader):\n",
    "    outputs = [model.validation_step(batch) for batch in val_loader]\n",
    "    return model.validation_epoch_end(outputs)"
   ]
  },
  {
   "cell_type": "code",
   "execution_count": 40,
   "id": "1f86db07-d1ca-4be8-a473-ba4bec383ba2",
   "metadata": {},
   "outputs": [],
   "source": [
    "class MnistModel(nn.Module):\n",
    "    def __init__(self):\n",
    "        super().__init__()\n",
    "        self.linear = nn.Linear(input_size, num_classes)\n",
    "        \n",
    "    def forward(self, xb):\n",
    "        xb = xb.reshape(-1, 784)\n",
    "        out = self.linear(xb)\n",
    "        return out\n",
    "    \n",
    "    def training_step(self, batch):\n",
    "        images, labels = batch \n",
    "        out = self(images)                  # Generate predictions\n",
    "        loss = F.cross_entropy(out, labels) # Calculate loss\n",
    "        return loss\n",
    "    \n",
    "    def validation_step(self, batch):\n",
    "        images, labels = batch \n",
    "        out = self(images)                    # Generate predictions\n",
    "        loss = F.cross_entropy(out, labels)   # Calculate loss\n",
    "        acc = accuracy(out, labels)           # Calculate accuracy\n",
    "        return {'val_loss': loss, 'val_acc': acc}\n",
    "        \n",
    "    def validation_epoch_end(self, outputs):\n",
    "        batch_losses = [x['val_loss'] for x in outputs]\n",
    "        epoch_loss = tr.stack(batch_losses).mean()   # Combine losses\n",
    "        batch_accs = [x['val_acc'] for x in outputs]\n",
    "        epoch_acc = tr.stack(batch_accs).mean()      # Combine accuracies\n",
    "        return {'val_loss': epoch_loss.item(), 'val_acc': epoch_acc.item()}\n",
    "    \n",
    "    def epoch_end(self, epoch, result):\n",
    "        print(\"Epoch [{}], val_loss: {:.4f}, val_acc: {:.4f}\".format(epoch+1, result['val_loss'], result['val_acc']))\n",
    "    \n",
    "model = MnistModel()"
   ]
  },
  {
   "cell_type": "code",
   "execution_count": 41,
   "id": "cf195fea-ebc2-4e08-be2c-bd1191a57605",
   "metadata": {},
   "outputs": [
    {
     "data": {
      "text/plain": [
       "{'val_loss': 2.294098138809204, 'val_acc': 0.08290000259876251}"
      ]
     },
     "execution_count": 41,
     "metadata": {},
     "output_type": "execute_result"
    }
   ],
   "source": [
    "result0 = evaluate(model, val_loader)\n",
    "result0"
   ]
  },
  {
   "cell_type": "code",
   "execution_count": 42,
   "id": "fc2c90b7-9f7e-47e6-9836-fc4aeb47760a",
   "metadata": {},
   "outputs": [
    {
     "name": "stdout",
     "output_type": "stream",
     "text": [
      "Epoch [1], val_loss: 1.8456, val_acc: 0.6672\n",
      "Epoch [2], val_loss: 1.5468, val_acc: 0.7320\n",
      "Epoch [3], val_loss: 1.3398, val_acc: 0.7621\n",
      "Epoch [4], val_loss: 1.1924, val_acc: 0.7840\n",
      "Epoch [5], val_loss: 1.0837, val_acc: 0.8017\n"
     ]
    }
   ],
   "source": [
    "history1 = fit(5, 0.001, model, train_loader, val_loader)"
   ]
  },
  {
   "cell_type": "code",
   "execution_count": 43,
   "id": "8dd4d96b-f689-4a4c-b93b-7fe0fa467aa9",
   "metadata": {},
   "outputs": [
    {
     "name": "stdout",
     "output_type": "stream",
     "text": [
      "Epoch [1], val_loss: 1.0008, val_acc: 0.8118\n",
      "Epoch [2], val_loss: 0.9357, val_acc: 0.8190\n",
      "Epoch [3], val_loss: 0.8832, val_acc: 0.8260\n",
      "Epoch [4], val_loss: 0.8400, val_acc: 0.8303\n",
      "Epoch [5], val_loss: 0.8037, val_acc: 0.8343\n"
     ]
    }
   ],
   "source": [
    "history2 = fit(5, 0.001, model, train_loader, val_loader)"
   ]
  },
  {
   "cell_type": "code",
   "execution_count": 44,
   "id": "3985ee16-cd91-4292-9291-1250bf566bd5",
   "metadata": {},
   "outputs": [
    {
     "name": "stdout",
     "output_type": "stream",
     "text": [
      "Epoch [1], val_loss: 0.7728, val_acc: 0.8385\n",
      "Epoch [2], val_loss: 0.7462, val_acc: 0.8416\n",
      "Epoch [3], val_loss: 0.7230, val_acc: 0.8445\n",
      "Epoch [4], val_loss: 0.7025, val_acc: 0.8470\n",
      "Epoch [5], val_loss: 0.6843, val_acc: 0.8493\n"
     ]
    }
   ],
   "source": [
    "history3 = fit(5, 0.001, model, train_loader, val_loader)"
   ]
  },
  {
   "cell_type": "code",
   "execution_count": 45,
   "id": "b76465a0-30df-412d-b5b2-5f63e978a870",
   "metadata": {},
   "outputs": [
    {
     "name": "stdout",
     "output_type": "stream",
     "text": [
      "Epoch [1], val_loss: 0.6680, val_acc: 0.8504\n",
      "Epoch [2], val_loss: 0.6533, val_acc: 0.8522\n",
      "Epoch [3], val_loss: 0.6400, val_acc: 0.8534\n",
      "Epoch [4], val_loss: 0.6279, val_acc: 0.8546\n",
      "Epoch [5], val_loss: 0.6168, val_acc: 0.8550\n"
     ]
    }
   ],
   "source": [
    "history4 = fit(5, 0.001, model, train_loader, val_loader)"
   ]
  },
  {
   "cell_type": "code",
   "execution_count": 46,
   "id": "47b2e377-9d32-4d56-866a-5a26841077a0",
   "metadata": {},
   "outputs": [
    {
     "data": {
      "text/plain": [
       "Text(0.5, 1.0, 'acc vs no of epoch')"
      ]
     },
     "execution_count": 46,
     "metadata": {},
     "output_type": "execute_result"
    },
    {
     "data": {
      "image/png": "[encoded data removed]",
      "text/plain": [
       "<Figure size 432x288 with 1 Axes>"
      ]
     },
     "metadata": {
      "needs_background": "light"
     },
     "output_type": "display_data"
    }
   ],
   "source": [
    "history = [result0] + history1 + history2 + history3 + history4\n",
    "accuracies = [result['val_acc'] for result in history]\n",
    "plt.plot(accuracies, '-')\n",
    "plt.xlabel('epoch')\n",
    "plt.ylabel('accuracy')\n",
    "plt.title('acc vs no of epoch')"
   ]
  },
  {
   "cell_type": "markdown",
   "id": "069b399a-5706-47cd-bd8d-2f2050c36c40",
   "metadata": {},
   "source": [
    "### **Apply on test dataset**"
   ]
  },
  {
   "cell_type": "code",
   "execution_count": 47,
   "id": "48582d7d-d17b-4b02-a091-413334942994",
   "metadata": {},
   "outputs": [
    {
     "name": "stdout",
     "output_type": "stream",
     "text": [
      "Shape: torch.Size([1, 28, 28])\n",
      "Label: 7\n"
     ]
    },
    {
     "data": {
      "image/png": "[encoded data removed]",
      "text/plain": [
       "<Figure size 432x288 with 1 Axes>"
      ]
     },
     "metadata": {
      "needs_background": "light"
     },
     "output_type": "display_data"
    }
   ],
   "source": [
    "img, label = test_ds[0]\n",
    "plt.imshow(img[0], cmap='gray')\n",
    "print('Shape:', img.shape)\n",
    "print('Label:', label)"
   ]
  },
  {
   "cell_type": "code",
   "execution_count": 48,
   "id": "79487e14-0248-4cb4-bf20-641b9639707f",
   "metadata": {},
   "outputs": [],
   "source": [
    "def predict_image(img, model):\n",
    "    xb = img.unsqueeze(0)\n",
    "    yb = model(xb)\n",
    "    _, preds = tr.max(yb, dim=1)\n",
    "    return preds[0].item()"
   ]
  },
  {
   "cell_type": "code",
   "execution_count": 49,
   "id": "0f1c1452-6068-48ac-8ece-6cccf4e59e06",
   "metadata": {},
   "outputs": [
    {
     "name": "stdout",
     "output_type": "stream",
     "text": [
      "Shape: torch.Size([1, 28, 28])\n",
      "Label: 7  , predicted: 7\n"
     ]
    },
    {
     "data": {
      "image/png": "[encoded data removed]",
      "text/plain": [
       "<Figure size 432x288 with 1 Axes>"
      ]
     },
     "metadata": {
      "needs_background": "light"
     },
     "output_type": "display_data"
    }
   ],
   "source": [
    "img, label = test_ds[0]\n",
    "plt.imshow(img[0], cmap='gray')\n",
    "print('Shape:', img.shape)\n",
    "print('Label:', label,' , predicted:', predict_image(img, model))"
   ]
  },
  {
   "cell_type": "code",
   "execution_count": 50,
   "id": "d924e624-37b8-4bf6-8c4b-5d7870be235b",
   "metadata": {},
   "outputs": [
    {
     "name": "stdout",
     "output_type": "stream",
     "text": [
      "Shape: torch.Size([1, 28, 28])\n",
      "Label: 5  , predicted: 4\n"
     ]
    },
    {
     "data": {
      "image/png": "[encoded data removed]",
      "text/plain": [
       "<Figure size 432x288 with 1 Axes>"
      ]
     },
     "metadata": {
      "needs_background": "light"
     },
     "output_type": "display_data"
    }
   ],
   "source": [
    "img, label = test_ds[167]\n",
    "plt.imshow(img[0], cmap='gray')\n",
    "print('Shape:', img.shape)\n",
    "print('Label:', label,' , predicted:', predict_image(img, model))"
   ]
  },
  {
   "cell_type": "code",
   "execution_count": 51,
   "id": "266e16cf-fc49-41e5-808e-96e7bf27118f",
   "metadata": {},
   "outputs": [
    {
     "name": "stdout",
     "output_type": "stream",
     "text": [
      "Shape: torch.Size([1, 28, 28])\n",
      "Label: 4  , predicted: 4\n"
     ]
    },
    {
     "data": {
      "image/png": "[encoded data removed]",
      "text/plain": [
       "<Figure size 432x288 with 1 Axes>"
      ]
     },
     "metadata": {
      "needs_background": "light"
     },
     "output_type": "display_data"
    }
   ],
   "source": [
    "img, label = test_ds[227]\n",
    "plt.imshow(img[0], cmap='gray')\n",
    "print('Shape:', img.shape)\n",
    "print('Label:', label,' , predicted:', predict_image(img, model))"
   ]
  },
  {
   "cell_type": "code",
   "execution_count": 52,
   "id": "04531102-7ce0-436b-8ef6-275e070ba252",
   "metadata": {},
   "outputs": [
    {
     "name": "stdout",
     "output_type": "stream",
     "text": [
      "Shape: torch.Size([1, 28, 28])\n",
      "Label: 9  , predicted: 9\n"
     ]
    },
    {
     "data": {
      "image/png": "[encoded data removed]",
      "text/plain": [
       "<Figure size 432x288 with 1 Axes>"
      ]
     },
     "metadata": {
      "needs_background": "light"
     },
     "output_type": "display_data"
    }
   ],
   "source": [
    "img, label = test_ds[560]\n",
    "plt.imshow(img[0], cmap='gray')\n",
    "print('Shape:', img.shape)\n",
    "print('Label:', label,' , predicted:', predict_image(img, model))"
   ]
  },
  {
   "cell_type": "code",
   "execution_count": 53,
   "id": "88d65345-4139-42d3-9113-412bc2366d92",
   "metadata": {},
   "outputs": [
    {
     "name": "stdout",
     "output_type": "stream",
     "text": [
      "Shape: torch.Size([1, 28, 28])\n",
      "Label: 6  , predicted: 5\n"
     ]
    },
    {
     "data": {
      "image/png": "[encoded data removed]",
      "text/plain": [
       "<Figure size 432x288 with 1 Axes>"
      ]
     },
     "metadata": {
      "needs_background": "light"
     },
     "output_type": "display_data"
    }
   ],
   "source": [
    "img, label = test_ds[1982]\n",
    "plt.imshow(img[0], cmap='gray')\n",
    "print('Shape:', img.shape)\n",
    "print('Label:', label,' , predicted:', predict_image(img, model))"
   ]
  },
  {
   "cell_type": "code",
   "execution_count": 54,
   "id": "f7c16259-e1b9-42ab-9e8d-abf6dd70bf58",
   "metadata": {},
   "outputs": [
    {
     "name": "stdout",
     "output_type": "stream",
     "text": [
      "Shape: torch.Size([1, 28, 28])\n",
      "Label: 4  , predicted: 4\n"
     ]
    },
    {
     "data": {
      "image/png": "[encoded data removed]",
      "text/plain": [
       "<Figure size 432x288 with 1 Axes>"
      ]
     },
     "metadata": {
      "needs_background": "light"
     },
     "output_type": "display_data"
    }
   ],
   "source": [
    "img, label = test_ds[2678]\n",
    "plt.imshow(img[0], cmap='gray')\n",
    "print('Shape:', img.shape)\n",
    "print('Label:', label,' , predicted:', predict_image(img, model))"
   ]
  },
  {
   "cell_type": "code",
   "execution_count": 55,
   "id": "f4842aac-7cd3-48c2-85b8-8bd67d28ff78",
   "metadata": {},
   "outputs": [
    {
     "data": {
      "text/plain": [
       "{'val_loss': 0.5837568044662476, 'val_acc': 0.86669921875}"
      ]
     },
     "execution_count": 55,
     "metadata": {},
     "output_type": "execute_result"
    }
   ],
   "source": [
    "test_loader = DataLoader(test_ds, batch_size=256)\n",
    "result = evaluate(model, test_loader)\n",
    "result"
   ]
  },
  {
   "cell_type": "markdown",
   "id": "11bb56b8-e053-42ad-ab38-ab8ecaa04ea2",
   "metadata": {},
   "source": [
    "### Save and loading the model"
   ]
  },
  {
   "cell_type": "code",
   "execution_count": 56,
   "id": "1e07d5cb-7c53-42d3-b407-db30d79299c2",
   "metadata": {},
   "outputs": [],
   "source": [
    "tr.save(model.state_dict(), 'mnist-logistic-regression.pth')"
   ]
  },
  {
   "cell_type": "code",
   "execution_count": 57,
   "id": "9d2cbc1e-4cda-4a65-b17a-9415febe301e",
   "metadata": {},
   "outputs": [
    {
     "data": {
      "text/plain": [
       "OrderedDict([('linear.weight',\n",
       "              tensor([[ 0.0355, -0.0237,  0.0304,  ..., -0.0171,  0.0186,  0.0235],\n",
       "                      [ 0.0260,  0.0335,  0.0038,  ...,  0.0217,  0.0153,  0.0125],\n",
       "                      [-0.0199,  0.0207, -0.0111,  ..., -0.0125, -0.0022,  0.0083],\n",
       "                      ...,\n",
       "                      [ 0.0013,  0.0231,  0.0174,  ..., -0.0006, -0.0014,  0.0103],\n",
       "                      [-0.0002,  0.0251, -0.0023,  ..., -0.0141,  0.0155, -0.0008],\n",
       "                      [ 0.0175,  0.0315, -0.0221,  ..., -0.0046, -0.0304, -0.0314]])),\n",
       "             ('linear.bias',\n",
       "              tensor([-0.0509,  0.0772, -0.0449, -0.0327,  0.0235,  0.0332, -0.0379,  0.0746,\n",
       "                      -0.0987, -0.0210]))])"
      ]
     },
     "execution_count": 57,
     "metadata": {},
     "output_type": "execute_result"
    }
   ],
   "source": [
    "model.state_dict()"
   ]
  },
  {
   "cell_type": "code",
   "execution_count": 58,
   "id": "dfe13633-1ecd-42ed-a1d8-fdd26c3614d8",
   "metadata": {},
   "outputs": [],
   "source": [
    "model11 = MnistModel()"
   ]
  },
  {
   "cell_type": "code",
   "execution_count": 59,
   "id": "3caa192d-132f-47a8-8658-b4f200748084",
   "metadata": {},
   "outputs": [
    {
     "data": {
      "text/plain": [
       "OrderedDict([('linear.weight',\n",
       "              tensor([[-0.0066, -0.0048, -0.0054,  ...,  0.0053,  0.0267,  0.0136],\n",
       "                      [ 0.0184,  0.0127, -0.0178,  ...,  0.0166, -0.0227,  0.0280],\n",
       "                      [-0.0064, -0.0166,  0.0045,  ..., -0.0188, -0.0330,  0.0216],\n",
       "                      ...,\n",
       "                      [ 0.0187,  0.0038, -0.0346,  ..., -0.0331, -0.0024, -0.0317],\n",
       "                      [-0.0148,  0.0112, -0.0043,  ...,  0.0064, -0.0234,  0.0232],\n",
       "                      [ 0.0003,  0.0183,  0.0017,  ...,  0.0292,  0.0209, -0.0026]])),\n",
       "             ('linear.bias',\n",
       "              tensor([-0.0168,  0.0053,  0.0225,  0.0118,  0.0089,  0.0053, -0.0237, -0.0086,\n",
       "                       0.0221, -0.0047]))])"
      ]
     },
     "execution_count": 59,
     "metadata": {},
     "output_type": "execute_result"
    }
   ],
   "source": [
    "model11.state_dict()"
   ]
  },
  {
   "cell_type": "code",
   "execution_count": 60,
   "id": "ec2ae7c3-7c17-468b-80d9-8a32065862c0",
   "metadata": {},
   "outputs": [
    {
     "data": {
      "text/plain": [
       "{'val_loss': 2.3036341667175293, 'val_acc': 0.15644530951976776}"
      ]
     },
     "execution_count": 60,
     "metadata": {},
     "output_type": "execute_result"
    }
   ],
   "source": [
    "evaluate(model11, test_loader)"
   ]
  },
  {
   "cell_type": "code",
   "execution_count": 61,
   "id": "b23c5803-2462-4b42-8580-b42a3b34c018",
   "metadata": {},
   "outputs": [
    {
     "data": {
      "text/plain": [
       "OrderedDict([('linear.weight',\n",
       "              tensor([[ 0.0355, -0.0237,  0.0304,  ..., -0.0171,  0.0186,  0.0235],\n",
       "                      [ 0.0260,  0.0335,  0.0038,  ...,  0.0217,  0.0153,  0.0125],\n",
       "                      [-0.0199,  0.0207, -0.0111,  ..., -0.0125, -0.0022,  0.0083],\n",
       "                      ...,\n",
       "                      [ 0.0013,  0.0231,  0.0174,  ..., -0.0006, -0.0014,  0.0103],\n",
       "                      [-0.0002,  0.0251, -0.0023,  ..., -0.0141,  0.0155, -0.0008],\n",
       "                      [ 0.0175,  0.0315, -0.0221,  ..., -0.0046, -0.0304, -0.0314]])),\n",
       "             ('linear.bias',\n",
       "              tensor([-0.0509,  0.0772, -0.0449, -0.0327,  0.0235,  0.0332, -0.0379,  0.0746,\n",
       "                      -0.0987, -0.0210]))])"
      ]
     },
     "execution_count": 61,
     "metadata": {},
     "output_type": "execute_result"
    }
   ],
   "source": [
    "model11.load_state_dict(tr.load('mnist-logistic-regression.pth'))\n",
    "model11.state_dict()"
   ]
  },
  {
   "cell_type": "code",
   "execution_count": 62,
   "id": "df7919ec-3233-4757-a4c2-f4789debde38",
   "metadata": {},
   "outputs": [
    {
     "data": {
      "text/plain": [
       "{'val_loss': 0.5837568044662476, 'val_acc': 0.86669921875}"
      ]
     },
     "execution_count": 62,
     "metadata": {},
     "output_type": "execute_result"
    }
   ],
   "source": [
    "test_loader = DataLoader(test_ds, batch_size=256)\n",
    "result = evaluate(model11, test_loader)\n",
    "result"
   ]
  },
  {
   "cell_type": "code",
   "execution_count": null,
   "id": "bc9cbc3f-2c45-4b76-92dd-cc2ec2df9788",
   "metadata": {},
   "outputs": [],
   "source": []
  }
 ],
 "metadata": {
  "kernelspec": {
   "display_name": "Python 3 (ipykernel)",
   "language": "python",
   "name": "python3"
  },
  "language_info": {
   "codemirror_mode": {
    "name": "ipython",
    "version": 3
   },
   "file_extension": ".py",
   "mimetype": "text/x-python",
   "name": "python",
   "nbconvert_exporter": "python",
   "pygments_lexer": "ipython3",
   "version": "3.9.12"
  }
 },
 "nbformat": 4,
 "nbformat_minor": 5
}
