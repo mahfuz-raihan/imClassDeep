{
 "cells": [
  {
   "cell_type": "markdown",
   "id": "612ceefa-5649-48cf-99f7-a7dad0de3934",
   "metadata": {},
   "source": [
    "# Image Classification with Logistic Regression using PyTroch"
   ]
  },
  {
   "cell_type": "markdown",
   "id": "ec339f76-5312-4b3e-8240-a6d37d08a92e",
   "metadata": {},
   "source": [
    "Here we use MNIST dataset to explore the data and most. "
   ]
  },
  {
   "cell_type": "code",
   "execution_count": 1,
   "id": "d29a289f-eeab-4dd1-a040-71314468e629",
   "metadata": {},
   "outputs": [],
   "source": [
    "# import the libararies\n",
    "import torch as tr\n",
    "import torchvision as tv\n",
    "from torchvision.datasets import MNIST as MT\n",
    "import torchvision.transforms as tf\n",
    "from torch.utils.data import random_split\n",
    "import matplotlib.pyplot as plt\n",
    "%matplotlib inline"
   ]
  },
  {
   "cell_type": "markdown",
   "id": "86cb345f-09e3-4865-9343-cf54f073636c",
   "metadata": {},
   "source": [
    "### Download the training dataset"
   ]
  },
  {
   "cell_type": "code",
   "execution_count": 2,
   "id": "dca05d6b-2321-4fe0-b898-3aa0f02de78d",
   "metadata": {},
   "outputs": [],
   "source": [
    "# training dataset download\n",
    "train_data = MT(root='data/', download=True)"
   ]
  },
  {
   "cell_type": "code",
   "execution_count": 3,
   "id": "6a61d8e4-4cc7-49a2-87cb-975fed161349",
   "metadata": {},
   "outputs": [
    {
     "data": {
      "text/plain": [
       "60000"
      ]
     },
     "execution_count": 3,
     "metadata": {},
     "output_type": "execute_result"
    }
   ],
   "source": [
    "len(train_data) # find the leanth of the dataset"
   ]
  },
  {
   "cell_type": "code",
   "execution_count": 4,
   "id": "8352917f-5088-4f81-9502-d4d98bd43445",
   "metadata": {},
   "outputs": [],
   "source": [
    "test_data = MT(root='data/', train=False)"
   ]
  },
  {
   "cell_type": "code",
   "execution_count": 5,
   "id": "f3d7032e-30be-483c-add6-ebd7789471dc",
   "metadata": {},
   "outputs": [
    {
     "data": {
      "text/plain": [
       "10000"
      ]
     },
     "execution_count": 5,
     "metadata": {},
     "output_type": "execute_result"
    }
   ],
   "source": [
    "len(test_data)"
   ]
  },
  {
   "cell_type": "markdown",
   "id": "2265bd13-feff-4cc1-95ce-3485bf3831a9",
   "metadata": {},
   "source": [
    "### Let's show the image from the dataset\n",
    "For this, we will use matplotlib for showcase the images."
   ]
  },
  {
   "cell_type": "code",
   "execution_count": 6,
   "id": "5b3f2b9b-8bd7-49d8-b41b-28ed9c2f745c",
   "metadata": {},
   "outputs": [
    {
     "name": "stdout",
     "output_type": "stream",
     "text": [
      "Label: 9\n"
     ]
    },
    {
     "data": {
      "image/png": "[encoded data removed]",
      "text/plain": [
       "<Figure size 432x288 with 1 Axes>"
      ]
     },
     "metadata": {
      "needs_background": "light"
     },
     "output_type": "display_data"
    }
   ],
   "source": [
    "image, label = train_data[4]\n",
    "plt.imshow(image, cmap='gray')\n",
    "print('Label:', label)"
   ]
  },
  {
   "cell_type": "code",
   "execution_count": 7,
   "id": "c8d12c03-b9a3-4b08-9fb2-20a7aef5695e",
   "metadata": {},
   "outputs": [
    {
     "data": {
      "text/plain": [
       "(<PIL.Image.Image image mode=L size=28x28 at 0x27FBF076F40>, 5)"
      ]
     },
     "execution_count": 7,
     "metadata": {},
     "output_type": "execute_result"
    }
   ],
   "source": [
    "train_data[0]"
   ]
  },
  {
   "cell_type": "code",
   "execution_count": 8,
   "id": "28e9a9b3-77c4-4cdf-b30a-3b72720d6e9f",
   "metadata": {},
   "outputs": [
    {
     "name": "stdout",
     "output_type": "stream",
     "text": [
      "Label: 3\n"
     ]
    },
    {
     "data": {
      "image/png": "[encoded data removed]",
      "text/plain": [
       "<Figure size 432x288 with 1 Axes>"
      ]
     },
     "metadata": {
      "needs_background": "light"
     },
     "output_type": "display_data"
    }
   ],
   "source": [
    "image, label = train_data[10]\n",
    "plt.imshow(image, cmap='gray')\n",
    "print('Label:', label)"
   ]
  },
  {
   "cell_type": "code",
   "execution_count": 9,
   "id": "32c0ed60-ad96-40b5-ade8-37905d03af63",
   "metadata": {},
   "outputs": [],
   "source": [
    "train_ds = MT(root='data/',\n",
    "             train=True,\n",
    "             transform=tf.ToTensor()\n",
    "             )\n",
    "test_ds = MT(root='data/',\n",
    "            train=False,\n",
    "            transform=tf.ToTensor()\n",
    "            )"
   ]
  },
  {
   "cell_type": "code",
   "execution_count": 10,
   "id": "ec15ee18-885e-4f7f-980d-2cd00b8c93c7",
   "metadata": {},
   "outputs": [
    {
     "name": "stdout",
     "output_type": "stream",
     "text": [
      "torch.Size([1, 28, 28]) 5\n"
     ]
    }
   ],
   "source": [
    "img_tensor, label= train_ds[0]\n",
    "print(img_tensor.shape, label)"
   ]
  },
  {
   "cell_type": "markdown",
   "id": "5aca1f1f-4917-4a76-942d-e0a75071483a",
   "metadata": {},
   "source": [
    "### let's look at some image sample values inside the tensor"
   ]
  },
  {
   "cell_type": "code",
   "execution_count": 11,
   "id": "9cc38429-b711-47f9-8c0e-a6405fe28129",
   "metadata": {},
   "outputs": [
    {
     "name": "stdout",
     "output_type": "stream",
     "text": [
      "tensor([[[0.0039, 0.6039, 0.9922, 0.3529, 0.0000],\n",
      "         [0.0000, 0.5451, 0.9922, 0.7451, 0.0078],\n",
      "         [0.0000, 0.0431, 0.7451, 0.9922, 0.2745],\n",
      "         [0.0000, 0.0000, 0.1373, 0.9451, 0.8824],\n",
      "         [0.0000, 0.0000, 0.0000, 0.3176, 0.9412]]])\n",
      "tensor(1.) tensor(0.)\n"
     ]
    }
   ],
   "source": [
    "print(img_tensor[:, 10:15, 10:15])\n",
    "print(tr.max(img_tensor), tr.min(img_tensor))"
   ]
  },
  {
   "cell_type": "code",
   "execution_count": 12,
   "id": "1e0b39c8-2b07-4987-99c8-a332da63e554",
   "metadata": {},
   "outputs": [
    {
     "data": {
      "text/plain": [
       "<matplotlib.image.AxesImage at 0x27fbf1a4730>"
      ]
     },
     "execution_count": 12,
     "metadata": {},
     "output_type": "execute_result"
    },
    {
     "data": {
      "image/png": "[encoded data removed]",
      "text/plain": [
       "<Figure size 432x288 with 1 Axes>"
      ]
     },
     "metadata": {
      "needs_background": "light"
     },
     "output_type": "display_data"
    }
   ],
   "source": [
    "# plot the image by passing in the 28x28 matrix\n",
    "plt.imshow(img_tensor[0, 10:20, 10:20], cmap='gray')"
   ]
  },
  {
   "cell_type": "markdown",
   "id": "b0cb47b0-7039-4a80-b8a6-4bb4d84610fc",
   "metadata": {},
   "source": [
    "### Training and Validation Datasets\n",
    "we will randomly pick the images from the dataset, for this reason we import the random_split method from PyTorch"
   ]
  },
  {
   "cell_type": "code",
   "execution_count": 13,
   "id": "0047d4a2-2d03-4464-b45f-4bc78e79a488",
   "metadata": {},
   "outputs": [],
   "source": [
    "train_dataset, val_dataset = random_split(train_ds, [50000, 10000])"
   ]
  },
  {
   "cell_type": "code",
   "execution_count": 14,
   "id": "99c0c6af-6b8e-4ec6-9584-33fb7ddec745",
   "metadata": {},
   "outputs": [
    {
     "data": {
      "text/plain": [
       "(50000, 10000)"
      ]
     },
     "execution_count": 14,
     "metadata": {},
     "output_type": "execute_result"
    }
   ],
   "source": [
    "# find the lenth of the dataset\n",
    "len(train_dataset), len(val_dataset)"
   ]
  },
  {
   "cell_type": "markdown",
   "id": "f0895795-3990-4185-a1af-83692933f883",
   "metadata": {},
   "source": [
    "### DataLoader"
   ]
  },
  {
   "cell_type": "code",
   "execution_count": 15,
   "id": "e824dc9b-3a79-4ede-a070-60bf5c2d79a3",
   "metadata": {},
   "outputs": [],
   "source": [
    "# import dataloader library\n",
    "from torch.utils.data.dataloader import DataLoader"
   ]
  },
  {
   "cell_type": "code",
   "execution_count": 16,
   "id": "91ab87c5-3889-4566-b329-a9fcc354ebc3",
   "metadata": {},
   "outputs": [],
   "source": [
    "train_loader = DataLoader(train_dataset, batch_size= 100, shuffle=True)\n",
    "val_loader = DataLoader(val_dataset, batch_size=100, shuffle=True)"
   ]
  },
  {
   "cell_type": "code",
   "execution_count": null,
   "id": "f4799dc7-2731-465d-8805-5cecb3be695f",
   "metadata": {},
   "outputs": [],
   "source": []
  }
 ],
 "metadata": {
  "kernelspec": {
   "display_name": "Python 3 (ipykernel)",
   "language": "python",
   "name": "python3"
  },
  "language_info": {
   "codemirror_mode": {
    "name": "ipython",
    "version": 3
   },
   "file_extension": ".py",
   "mimetype": "text/x-python",
   "name": "python",
   "nbconvert_exporter": "python",
   "pygments_lexer": "ipython3",
   "version": "3.9.12"
  }
 },
 "nbformat": 4,
 "nbformat_minor": 5
}
